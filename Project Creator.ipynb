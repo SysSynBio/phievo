{
 "cells": [
  {
   "cell_type": "markdown",
   "metadata": {},
   "source": [
    "# Project Creator.\n",
    "\n",
    "Project creator is a jupyter notebook app that can be used to customize phievo's parameter and create a new project.\n",
    "\n",
    "*Run the next code cell to launch Project Creator*"
   ]
  },
  {
   "cell_type": "code",
   "execution_count": 1,
   "metadata": {},
   "outputs": [
    {
     "data": {
      "application/vnd.jupyter.widget-view+json": {
       "model_id": "9abbb96ce13c494a94521eaa8f5b28fa",
       "version_major": 2,
       "version_minor": 0
      },
      "text/plain": [
       "A Jupyter Widget"
      ]
     },
     "metadata": {},
     "output_type": "display_data"
    },
    {
     "name": "stdout",
     "output_type": "stream",
     "text": [
      "/Users/adrien/Work/phievo/phievo/ConfigurationTools/default_cfiles\n",
      "Wrote test1/fitness.c\n",
      "Wrote test1/init_history.c\n",
      "Wrote test1/input.c\n",
      "Wrote test1/initialization.py\n"
     ]
    }
   ],
   "source": [
    "from phievo.ConfigurationTools.application import App\n",
    "aa = App()\n",
    "aa.get_widget()"
   ]
  },
  {
   "cell_type": "code",
   "execution_count": 4,
   "metadata": {},
   "outputs": [],
   "source": [
    "from phievo.ConfigurationTools.containers import prmt_descriptions,prmt_order"
   ]
  },
  {
   "cell_type": "code",
   "execution_count": 6,
   "metadata": {},
   "outputs": [
    {
     "name": "stdout",
     "output_type": "stream",
     "text": [
      "- Number of seeds (`nseed`):\n",
      "- First seed (`firstseed`):\n",
      "- Number of generations (`ngeneration`):\n",
      "- Number of cells (`ncelltot`):\n",
      "- Population size (`npopulation`):\n",
      "- Number of neighbors (`nneighbor`):\n",
      "- Fraction mutated per gen (`frac_mutate`):\n",
      "- Number of Inputs (`ninput`):\n",
      "- Number of Outputs (`noutput`):\n",
      "- Number of trials (`ntries`):\n",
      "- Time step dt (`dt`):\n",
      "- Number of time steps (`nstep`):\n",
      "- Langevin noise value (`langevin_noise`):\n",
      "- Gillespie generation time (`tgeneration`):\n",
      "- Recompute networks (`redo`):\n",
      "- Pareto simulation (`pareto`):\n",
      "- Number of pareto functions (`npareto_functions`):\n",
      "- Pareto penalty radius (`rshare`):\n",
      "- Multiple threads (`multipro_level`):\n",
      "- Generation printing frequency (`freq_stat`):\n"
     ]
    }
   ],
   "source": [
    "for key in prmt_order:\n",
    "    print(\"- {} (`{}`):\".format(prmt_descriptions[key],key))"
   ]
  },
  {
   "cell_type": "code",
   "execution_count": 7,
   "metadata": {},
   "outputs": [],
   "source": [
    "from phievo.ConfigurationTools.application import configurations"
   ]
  },
  {
   "cell_type": "code",
   "execution_count": 9,
   "metadata": {},
   "outputs": [
    {
     "data": {
      "text/plain": [
       "{'activated': False,\n",
       " 'freq': 50,\n",
       " 'kgeneration': 50,\n",
       " 'same_seed': True,\n",
       " 'seed': 0}"
      ]
     },
     "execution_count": 9,
     "metadata": {},
     "output_type": "execute_result"
    }
   ],
   "source": [
    "configurations[\"restart\"]"
   ]
  },
  {
   "cell_type": "code",
   "execution_count": null,
   "metadata": {},
   "outputs": [],
   "source": []
  }
 ],
 "metadata": {
  "kernelspec": {
   "display_name": "Python 3",
   "language": "python",
   "name": "python3"
  },
  "language_info": {
   "codemirror_mode": {
    "name": "ipython",
    "version": 3
   },
   "file_extension": ".py",
   "mimetype": "text/x-python",
   "name": "python",
   "nbconvert_exporter": "python",
   "pygments_lexer": "ipython3",
   "version": "3.6.2"
  }
 },
 "nbformat": 4,
 "nbformat_minor": 2
}
