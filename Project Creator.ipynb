{
 "cells": [
  {
   "cell_type": "markdown",
   "metadata": {},
   "source": [
    "# Project Creator.\n",
    "\n",
    "Project creator is a jupyter notebook app that can be used to customize phievo's parameter and create a new project.\n",
    "\n",
    "*Run the next code cell to launch Project Creator*"
   ]
  },
  {
   "cell_type": "code",
   "execution_count": 1,
   "metadata": {},
   "outputs": [
    {
     "data": {
      "application/vnd.jupyter.widget-view+json": {
       "model_id": "6b43a85bdc904b8eb93b7b6f5c2436a8",
       "version_major": 2,
       "version_minor": 0
      },
      "text/plain": [
       "A Jupyter Widget"
      ]
     },
     "metadata": {},
     "output_type": "display_data"
    },
    {
     "name": "stdout",
     "output_type": "stream",
     "text": [
      "/Users/adrien/Work/phievo/phievo/ConfigurationTools/default_cfiles\n",
      "Wrote lalla/fitness.c\n",
      "Wrote lalla/init_history.c\n",
      "Wrote lalla/input.c\n",
      "Wrote lalla/initialization.py\n"
     ]
    }
   ],
   "source": [
    "from phievo.ConfigurationTools.application import App\n",
    "aa = App()\n",
    "aa.get_widget()"
   ]
  },
  {
   "cell_type": "code",
   "execution_count": null,
   "metadata": {},
   "outputs": [],
   "source": []
  }
 ],
 "metadata": {
  "kernelspec": {
   "display_name": "Python 3",
   "language": "python",
   "name": "python3"
  },
  "language_info": {
   "codemirror_mode": {
    "name": "ipython",
    "version": 3
   },
   "file_extension": ".py",
   "mimetype": "text/x-python",
   "name": "python",
   "nbconvert_exporter": "python",
   "pygments_lexer": "ipython3",
   "version": "3.6.2"
  }
 },
 "nbformat": 4,
 "nbformat_minor": 2
}
