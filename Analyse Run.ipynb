{
 "cells": [
  {
   "cell_type": "markdown",
   "metadata": {
    "deletable": true,
    "editable": true
   },
   "source": [
    "# Analyse Run #\n",
    "\n",
    "This is a template notebook to browse the results of a evolution simulation.\n",
    "\n",
    "Please _Restart & Run All_ to make shure you start with a clean notebook."
   ]
  },
  {
   "cell_type": "markdown",
   "metadata": {
    "deletable": true,
    "editable": true
   },
   "source": [
    "## Import required libraries"
   ]
  },
  {
   "cell_type": "code",
   "execution_count": 1,
   "metadata": {
    "collapsed": false,
    "deletable": true,
    "editable": true
   },
   "outputs": [],
   "source": [
    "%matplotlib notebook\n",
    "import matplotlib.pyplot as plt\n",
    "import numpy as np\n",
    "from  ipywidgets import widgets \n",
    "from ipywidgets import interact, interactive, fixed\n",
    "from IPython.display import display,HTML,clear_output\n",
    "import os\n",
    "HTML('''<script>code_show=true;function code_toggle() {if (code_show){$('div.input').hide();} else {$('div.input').show();} code_show = !code_show} $( document ).ready(code_toggle);</script><form action=\"javascript:code_toggle()\"><input type=\"submit\" value=\"Click here to toggle on/off the raw code.\"></form>''')\n",
    "import phievo.AnalysisTools as AT\n",
    "from  phievo.AnalysisTools.Notebook import Notebook\n",
    "notebook = Notebook()"
   ]
  },
  {
   "cell_type": "markdown",
   "metadata": {
    "deletable": true,
    "editable": true
   },
   "source": [
    "## Select the Project"
   ]
  },
  {
   "cell_type": "code",
   "execution_count": 2,
   "metadata": {
    "collapsed": false,
    "deletable": true,
    "editable": true
   },
   "outputs": [
    {
     "data": {
      "application/vnd.jupyter.widget-view+json": {
       "model_id": "11986a04c7084afd993d935061f97167"
      }
     },
     "metadata": {},
     "output_type": "display_data"
    },
    {
     "name": "stdout",
     "output_type": "stream",
     "text": [
      "Remark: No pfile object in init* file, use default one (see check_model_dir)!\n",
      "To load a new project, please restart the kernel\n",
      "Kernel > Restart & Run All\n"
     ]
    }
   ],
   "source": [
    "notebook.select_project.display()"
   ]
  },
  {
   "cell_type": "markdown",
   "metadata": {
    "deletable": true,
    "editable": true
   },
   "source": [
    "## Select Seed"
   ]
  },
  {
   "cell_type": "code",
   "execution_count": 3,
   "metadata": {
    "collapsed": false,
    "deletable": true,
    "editable": true
   },
   "outputs": [
    {
     "data": {
      "application/vnd.jupyter.widget-view+json": {
       "model_id": "18a8d5366000441e90b3ad48b7ea3374"
      }
     },
     "metadata": {},
     "output_type": "display_data"
    }
   ],
   "source": [
    "notebook.select_seed.display()"
   ]
  },
  {
   "cell_type": "markdown",
   "metadata": {
    "deletable": true,
    "editable": true
   },
   "source": [
    "## Plot Pareto Fronts"
   ]
  },
  {
   "cell_type": "code",
   "execution_count": 4,
   "metadata": {
    "collapsed": false,
    "deletable": true,
    "editable": true
   },
   "outputs": [
    {
     "data": {
      "application/javascript": [
       "/* Put everything inside the global mpl namespace */\n",
       "window.mpl = {};\n",
       "\n",
       "\n",
       "mpl.get_websocket_type = function() {\n",
       "    if (typeof(WebSocket) !== 'undefined') {\n",
       "        return WebSocket;\n",
       "    } else if (typeof(MozWebSocket) !== 'undefined') {\n",
       "        return MozWebSocket;\n",
       "    } else {\n",
       "        alert('Your browser does not have WebSocket support.' +\n",
       "              'Please try Chrome, Safari or Firefox ≥ 6. ' +\n",
       "              'Firefox 4 and 5 are also supported but you ' +\n",
       "              'have to enable WebSockets in about:config.');\n",
       "    };\n",
       "}\n",
       "\n",
       "mpl.figure = function(figure_id, websocket, ondownload, parent_element) {\n",
       "    this.id = figure_id;\n",
       "\n",
       "    this.ws = websocket;\n",
       "\n",
       "    this.supports_binary = (this.ws.binaryType != undefined);\n",
       "\n",
       "    if (!this.supports_binary) {\n",
       "        var warnings = document.getElementById(\"mpl-warnings\");\n",
       "        if (warnings) {\n",
       "            warnings.style.display = 'block';\n",
       "            warnings.textContent = (\n",
       "                \"This browser does not support binary websocket messages. \" +\n",
       "                    \"Performance may be slow.\");\n",
       "        }\n",
       "    }\n",
       "\n",
       "    this.imageObj = new Image();\n",
       "\n",
       "    this.context = undefined;\n",
       "    this.message = undefined;\n",
       "    this.canvas = undefined;\n",
       "    this.rubberband_canvas = undefined;\n",
       "    this.rubberband_context = undefined;\n",
       "    this.format_dropdown = undefined;\n",
       "\n",
       "    this.image_mode = 'full';\n",
       "\n",
       "    this.root = $('<div/>');\n",
       "    this._root_extra_style(this.root)\n",
       "    this.root.attr('style', 'display: inline-block');\n",
       "\n",
       "    $(parent_element).append(this.root);\n",
       "\n",
       "    this._init_header(this);\n",
       "    this._init_canvas(this);\n",
       "    this._init_toolbar(this);\n",
       "\n",
       "    var fig = this;\n",
       "\n",
       "    this.waiting = false;\n",
       "\n",
       "    this.ws.onopen =  function () {\n",
       "            fig.send_message(\"supports_binary\", {value: fig.supports_binary});\n",
       "            fig.send_message(\"send_image_mode\", {});\n",
       "            if (mpl.ratio != 1) {\n",
       "                fig.send_message(\"set_dpi_ratio\", {'dpi_ratio': mpl.ratio});\n",
       "            }\n",
       "            fig.send_message(\"refresh\", {});\n",
       "        }\n",
       "\n",
       "    this.imageObj.onload = function() {\n",
       "            if (fig.image_mode == 'full') {\n",
       "                // Full images could contain transparency (where diff images\n",
       "                // almost always do), so we need to clear the canvas so that\n",
       "                // there is no ghosting.\n",
       "                fig.context.clearRect(0, 0, fig.canvas.width, fig.canvas.height);\n",
       "            }\n",
       "            fig.context.drawImage(fig.imageObj, 0, 0);\n",
       "        };\n",
       "\n",
       "    this.imageObj.onunload = function() {\n",
       "        this.ws.close();\n",
       "    }\n",
       "\n",
       "    this.ws.onmessage = this._make_on_message_function(this);\n",
       "\n",
       "    this.ondownload = ondownload;\n",
       "}\n",
       "\n",
       "mpl.figure.prototype._init_header = function() {\n",
       "    var titlebar = $(\n",
       "        '<div class=\"ui-dialog-titlebar ui-widget-header ui-corner-all ' +\n",
       "        'ui-helper-clearfix\"/>');\n",
       "    var titletext = $(\n",
       "        '<div class=\"ui-dialog-title\" style=\"width: 100%; ' +\n",
       "        'text-align: center; padding: 3px;\"/>');\n",
       "    titlebar.append(titletext)\n",
       "    this.root.append(titlebar);\n",
       "    this.header = titletext[0];\n",
       "}\n",
       "\n",
       "\n",
       "\n",
       "mpl.figure.prototype._canvas_extra_style = function(canvas_div) {\n",
       "\n",
       "}\n",
       "\n",
       "\n",
       "mpl.figure.prototype._root_extra_style = function(canvas_div) {\n",
       "\n",
       "}\n",
       "\n",
       "mpl.figure.prototype._init_canvas = function() {\n",
       "    var fig = this;\n",
       "\n",
       "    var canvas_div = $('<div/>');\n",
       "\n",
       "    canvas_div.attr('style', 'position: relative; clear: both; outline: 0');\n",
       "\n",
       "    function canvas_keyboard_event(event) {\n",
       "        return fig.key_event(event, event['data']);\n",
       "    }\n",
       "\n",
       "    canvas_div.keydown('key_press', canvas_keyboard_event);\n",
       "    canvas_div.keyup('key_release', canvas_keyboard_event);\n",
       "    this.canvas_div = canvas_div\n",
       "    this._canvas_extra_style(canvas_div)\n",
       "    this.root.append(canvas_div);\n",
       "\n",
       "    var canvas = $('<canvas/>');\n",
       "    canvas.addClass('mpl-canvas');\n",
       "    canvas.attr('style', \"left: 0; top: 0; z-index: 0; outline: 0\")\n",
       "\n",
       "    this.canvas = canvas[0];\n",
       "    this.context = canvas[0].getContext(\"2d\");\n",
       "\n",
       "    var backingStore = this.context.backingStorePixelRatio ||\n",
       "\tthis.context.webkitBackingStorePixelRatio ||\n",
       "\tthis.context.mozBackingStorePixelRatio ||\n",
       "\tthis.context.msBackingStorePixelRatio ||\n",
       "\tthis.context.oBackingStorePixelRatio ||\n",
       "\tthis.context.backingStorePixelRatio || 1;\n",
       "\n",
       "    mpl.ratio = (window.devicePixelRatio || 1) / backingStore;\n",
       "\n",
       "    var rubberband = $('<canvas/>');\n",
       "    rubberband.attr('style', \"position: absolute; left: 0; top: 0; z-index: 1;\")\n",
       "\n",
       "    var pass_mouse_events = true;\n",
       "\n",
       "    canvas_div.resizable({\n",
       "        start: function(event, ui) {\n",
       "            pass_mouse_events = false;\n",
       "        },\n",
       "        resize: function(event, ui) {\n",
       "            fig.request_resize(ui.size.width, ui.size.height);\n",
       "        },\n",
       "        stop: function(event, ui) {\n",
       "            pass_mouse_events = true;\n",
       "            fig.request_resize(ui.size.width, ui.size.height);\n",
       "        },\n",
       "    });\n",
       "\n",
       "    function mouse_event_fn(event) {\n",
       "        if (pass_mouse_events)\n",
       "            return fig.mouse_event(event, event['data']);\n",
       "    }\n",
       "\n",
       "    rubberband.mousedown('button_press', mouse_event_fn);\n",
       "    rubberband.mouseup('button_release', mouse_event_fn);\n",
       "    // Throttle sequential mouse events to 1 every 20ms.\n",
       "    rubberband.mousemove('motion_notify', mouse_event_fn);\n",
       "\n",
       "    rubberband.mouseenter('figure_enter', mouse_event_fn);\n",
       "    rubberband.mouseleave('figure_leave', mouse_event_fn);\n",
       "\n",
       "    canvas_div.on(\"wheel\", function (event) {\n",
       "        event = event.originalEvent;\n",
       "        event['data'] = 'scroll'\n",
       "        if (event.deltaY < 0) {\n",
       "            event.step = 1;\n",
       "        } else {\n",
       "            event.step = -1;\n",
       "        }\n",
       "        mouse_event_fn(event);\n",
       "    });\n",
       "\n",
       "    canvas_div.append(canvas);\n",
       "    canvas_div.append(rubberband);\n",
       "\n",
       "    this.rubberband = rubberband;\n",
       "    this.rubberband_canvas = rubberband[0];\n",
       "    this.rubberband_context = rubberband[0].getContext(\"2d\");\n",
       "    this.rubberband_context.strokeStyle = \"#000000\";\n",
       "\n",
       "    this._resize_canvas = function(width, height) {\n",
       "        // Keep the size of the canvas, canvas container, and rubber band\n",
       "        // canvas in synch.\n",
       "        canvas_div.css('width', width)\n",
       "        canvas_div.css('height', height)\n",
       "\n",
       "        canvas.attr('width', width * mpl.ratio);\n",
       "        canvas.attr('height', height * mpl.ratio);\n",
       "        canvas.attr('style', 'width: ' + width + 'px; height: ' + height + 'px;');\n",
       "\n",
       "        rubberband.attr('width', width);\n",
       "        rubberband.attr('height', height);\n",
       "    }\n",
       "\n",
       "    // Set the figure to an initial 600x600px, this will subsequently be updated\n",
       "    // upon first draw.\n",
       "    this._resize_canvas(600, 600);\n",
       "\n",
       "    // Disable right mouse context menu.\n",
       "    $(this.rubberband_canvas).bind(\"contextmenu\",function(e){\n",
       "        return false;\n",
       "    });\n",
       "\n",
       "    function set_focus () {\n",
       "        canvas.focus();\n",
       "        canvas_div.focus();\n",
       "    }\n",
       "\n",
       "    window.setTimeout(set_focus, 100);\n",
       "}\n",
       "\n",
       "mpl.figure.prototype._init_toolbar = function() {\n",
       "    var fig = this;\n",
       "\n",
       "    var nav_element = $('<div/>')\n",
       "    nav_element.attr('style', 'width: 100%');\n",
       "    this.root.append(nav_element);\n",
       "\n",
       "    // Define a callback function for later on.\n",
       "    function toolbar_event(event) {\n",
       "        return fig.toolbar_button_onclick(event['data']);\n",
       "    }\n",
       "    function toolbar_mouse_event(event) {\n",
       "        return fig.toolbar_button_onmouseover(event['data']);\n",
       "    }\n",
       "\n",
       "    for(var toolbar_ind in mpl.toolbar_items) {\n",
       "        var name = mpl.toolbar_items[toolbar_ind][0];\n",
       "        var tooltip = mpl.toolbar_items[toolbar_ind][1];\n",
       "        var image = mpl.toolbar_items[toolbar_ind][2];\n",
       "        var method_name = mpl.toolbar_items[toolbar_ind][3];\n",
       "\n",
       "        if (!name) {\n",
       "            // put a spacer in here.\n",
       "            continue;\n",
       "        }\n",
       "        var button = $('<button/>');\n",
       "        button.addClass('ui-button ui-widget ui-state-default ui-corner-all ' +\n",
       "                        'ui-button-icon-only');\n",
       "        button.attr('role', 'button');\n",
       "        button.attr('aria-disabled', 'false');\n",
       "        button.click(method_name, toolbar_event);\n",
       "        button.mouseover(tooltip, toolbar_mouse_event);\n",
       "\n",
       "        var icon_img = $('<span/>');\n",
       "        icon_img.addClass('ui-button-icon-primary ui-icon');\n",
       "        icon_img.addClass(image);\n",
       "        icon_img.addClass('ui-corner-all');\n",
       "\n",
       "        var tooltip_span = $('<span/>');\n",
       "        tooltip_span.addClass('ui-button-text');\n",
       "        tooltip_span.html(tooltip);\n",
       "\n",
       "        button.append(icon_img);\n",
       "        button.append(tooltip_span);\n",
       "\n",
       "        nav_element.append(button);\n",
       "    }\n",
       "\n",
       "    var fmt_picker_span = $('<span/>');\n",
       "\n",
       "    var fmt_picker = $('<select/>');\n",
       "    fmt_picker.addClass('mpl-toolbar-option ui-widget ui-widget-content');\n",
       "    fmt_picker_span.append(fmt_picker);\n",
       "    nav_element.append(fmt_picker_span);\n",
       "    this.format_dropdown = fmt_picker[0];\n",
       "\n",
       "    for (var ind in mpl.extensions) {\n",
       "        var fmt = mpl.extensions[ind];\n",
       "        var option = $(\n",
       "            '<option/>', {selected: fmt === mpl.default_extension}).html(fmt);\n",
       "        fmt_picker.append(option)\n",
       "    }\n",
       "\n",
       "    // Add hover states to the ui-buttons\n",
       "    $( \".ui-button\" ).hover(\n",
       "        function() { $(this).addClass(\"ui-state-hover\");},\n",
       "        function() { $(this).removeClass(\"ui-state-hover\");}\n",
       "    );\n",
       "\n",
       "    var status_bar = $('<span class=\"mpl-message\"/>');\n",
       "    nav_element.append(status_bar);\n",
       "    this.message = status_bar[0];\n",
       "}\n",
       "\n",
       "mpl.figure.prototype.request_resize = function(x_pixels, y_pixels) {\n",
       "    // Request matplotlib to resize the figure. Matplotlib will then trigger a resize in the client,\n",
       "    // which will in turn request a refresh of the image.\n",
       "    this.send_message('resize', {'width': x_pixels, 'height': y_pixels});\n",
       "}\n",
       "\n",
       "mpl.figure.prototype.send_message = function(type, properties) {\n",
       "    properties['type'] = type;\n",
       "    properties['figure_id'] = this.id;\n",
       "    this.ws.send(JSON.stringify(properties));\n",
       "}\n",
       "\n",
       "mpl.figure.prototype.send_draw_message = function() {\n",
       "    if (!this.waiting) {\n",
       "        this.waiting = true;\n",
       "        this.ws.send(JSON.stringify({type: \"draw\", figure_id: this.id}));\n",
       "    }\n",
       "}\n",
       "\n",
       "\n",
       "mpl.figure.prototype.handle_save = function(fig, msg) {\n",
       "    var format_dropdown = fig.format_dropdown;\n",
       "    var format = format_dropdown.options[format_dropdown.selectedIndex].value;\n",
       "    fig.ondownload(fig, format);\n",
       "}\n",
       "\n",
       "\n",
       "mpl.figure.prototype.handle_resize = function(fig, msg) {\n",
       "    var size = msg['size'];\n",
       "    if (size[0] != fig.canvas.width || size[1] != fig.canvas.height) {\n",
       "        fig._resize_canvas(size[0], size[1]);\n",
       "        fig.send_message(\"refresh\", {});\n",
       "    };\n",
       "}\n",
       "\n",
       "mpl.figure.prototype.handle_rubberband = function(fig, msg) {\n",
       "    var x0 = msg['x0'] / mpl.ratio;\n",
       "    var y0 = (fig.canvas.height - msg['y0']) / mpl.ratio;\n",
       "    var x1 = msg['x1'] / mpl.ratio;\n",
       "    var y1 = (fig.canvas.height - msg['y1']) / mpl.ratio;\n",
       "    x0 = Math.floor(x0) + 0.5;\n",
       "    y0 = Math.floor(y0) + 0.5;\n",
       "    x1 = Math.floor(x1) + 0.5;\n",
       "    y1 = Math.floor(y1) + 0.5;\n",
       "    var min_x = Math.min(x0, x1);\n",
       "    var min_y = Math.min(y0, y1);\n",
       "    var width = Math.abs(x1 - x0);\n",
       "    var height = Math.abs(y1 - y0);\n",
       "\n",
       "    fig.rubberband_context.clearRect(\n",
       "        0, 0, fig.canvas.width, fig.canvas.height);\n",
       "\n",
       "    fig.rubberband_context.strokeRect(min_x, min_y, width, height);\n",
       "}\n",
       "\n",
       "mpl.figure.prototype.handle_figure_label = function(fig, msg) {\n",
       "    // Updates the figure title.\n",
       "    fig.header.textContent = msg['label'];\n",
       "}\n",
       "\n",
       "mpl.figure.prototype.handle_cursor = function(fig, msg) {\n",
       "    var cursor = msg['cursor'];\n",
       "    switch(cursor)\n",
       "    {\n",
       "    case 0:\n",
       "        cursor = 'pointer';\n",
       "        break;\n",
       "    case 1:\n",
       "        cursor = 'default';\n",
       "        break;\n",
       "    case 2:\n",
       "        cursor = 'crosshair';\n",
       "        break;\n",
       "    case 3:\n",
       "        cursor = 'move';\n",
       "        break;\n",
       "    }\n",
       "    fig.rubberband_canvas.style.cursor = cursor;\n",
       "}\n",
       "\n",
       "mpl.figure.prototype.handle_message = function(fig, msg) {\n",
       "    fig.message.textContent = msg['message'];\n",
       "}\n",
       "\n",
       "mpl.figure.prototype.handle_draw = function(fig, msg) {\n",
       "    // Request the server to send over a new figure.\n",
       "    fig.send_draw_message();\n",
       "}\n",
       "\n",
       "mpl.figure.prototype.handle_image_mode = function(fig, msg) {\n",
       "    fig.image_mode = msg['mode'];\n",
       "}\n",
       "\n",
       "mpl.figure.prototype.updated_canvas_event = function() {\n",
       "    // Called whenever the canvas gets updated.\n",
       "    this.send_message(\"ack\", {});\n",
       "}\n",
       "\n",
       "// A function to construct a web socket function for onmessage handling.\n",
       "// Called in the figure constructor.\n",
       "mpl.figure.prototype._make_on_message_function = function(fig) {\n",
       "    return function socket_on_message(evt) {\n",
       "        if (evt.data instanceof Blob) {\n",
       "            /* FIXME: We get \"Resource interpreted as Image but\n",
       "             * transferred with MIME type text/plain:\" errors on\n",
       "             * Chrome.  But how to set the MIME type?  It doesn't seem\n",
       "             * to be part of the websocket stream */\n",
       "            evt.data.type = \"image/png\";\n",
       "\n",
       "            /* Free the memory for the previous frames */\n",
       "            if (fig.imageObj.src) {\n",
       "                (window.URL || window.webkitURL).revokeObjectURL(\n",
       "                    fig.imageObj.src);\n",
       "            }\n",
       "\n",
       "            fig.imageObj.src = (window.URL || window.webkitURL).createObjectURL(\n",
       "                evt.data);\n",
       "            fig.updated_canvas_event();\n",
       "            fig.waiting = false;\n",
       "            return;\n",
       "        }\n",
       "        else if (typeof evt.data === 'string' && evt.data.slice(0, 21) == \"data:image/png;base64\") {\n",
       "            fig.imageObj.src = evt.data;\n",
       "            fig.updated_canvas_event();\n",
       "            fig.waiting = false;\n",
       "            return;\n",
       "        }\n",
       "\n",
       "        var msg = JSON.parse(evt.data);\n",
       "        var msg_type = msg['type'];\n",
       "\n",
       "        // Call the  \"handle_{type}\" callback, which takes\n",
       "        // the figure and JSON message as its only arguments.\n",
       "        try {\n",
       "            var callback = fig[\"handle_\" + msg_type];\n",
       "        } catch (e) {\n",
       "            console.log(\"No handler for the '\" + msg_type + \"' message type: \", msg);\n",
       "            return;\n",
       "        }\n",
       "\n",
       "        if (callback) {\n",
       "            try {\n",
       "                // console.log(\"Handling '\" + msg_type + \"' message: \", msg);\n",
       "                callback(fig, msg);\n",
       "            } catch (e) {\n",
       "                console.log(\"Exception inside the 'handler_\" + msg_type + \"' callback:\", e, e.stack, msg);\n",
       "            }\n",
       "        }\n",
       "    };\n",
       "}\n",
       "\n",
       "// from http://stackoverflow.com/questions/1114465/getting-mouse-location-in-canvas\n",
       "mpl.findpos = function(e) {\n",
       "    //this section is from http://www.quirksmode.org/js/events_properties.html\n",
       "    var targ;\n",
       "    if (!e)\n",
       "        e = window.event;\n",
       "    if (e.target)\n",
       "        targ = e.target;\n",
       "    else if (e.srcElement)\n",
       "        targ = e.srcElement;\n",
       "    if (targ.nodeType == 3) // defeat Safari bug\n",
       "        targ = targ.parentNode;\n",
       "\n",
       "    // jQuery normalizes the pageX and pageY\n",
       "    // pageX,Y are the mouse positions relative to the document\n",
       "    // offset() returns the position of the element relative to the document\n",
       "    var x = e.pageX - $(targ).offset().left;\n",
       "    var y = e.pageY - $(targ).offset().top;\n",
       "\n",
       "    return {\"x\": x, \"y\": y};\n",
       "};\n",
       "\n",
       "/*\n",
       " * return a copy of an object with only non-object keys\n",
       " * we need this to avoid circular references\n",
       " * http://stackoverflow.com/a/24161582/3208463\n",
       " */\n",
       "function simpleKeys (original) {\n",
       "  return Object.keys(original).reduce(function (obj, key) {\n",
       "    if (typeof original[key] !== 'object')\n",
       "        obj[key] = original[key]\n",
       "    return obj;\n",
       "  }, {});\n",
       "}\n",
       "\n",
       "mpl.figure.prototype.mouse_event = function(event, name) {\n",
       "    var canvas_pos = mpl.findpos(event)\n",
       "\n",
       "    if (name === 'button_press')\n",
       "    {\n",
       "        this.canvas.focus();\n",
       "        this.canvas_div.focus();\n",
       "    }\n",
       "\n",
       "    var x = canvas_pos.x * mpl.ratio;\n",
       "    var y = canvas_pos.y * mpl.ratio;\n",
       "\n",
       "    this.send_message(name, {x: x, y: y, button: event.button,\n",
       "                             step: event.step,\n",
       "                             guiEvent: simpleKeys(event)});\n",
       "\n",
       "    /* This prevents the web browser from automatically changing to\n",
       "     * the text insertion cursor when the button is pressed.  We want\n",
       "     * to control all of the cursor setting manually through the\n",
       "     * 'cursor' event from matplotlib */\n",
       "    event.preventDefault();\n",
       "    return false;\n",
       "}\n",
       "\n",
       "mpl.figure.prototype._key_event_extra = function(event, name) {\n",
       "    // Handle any extra behaviour associated with a key event\n",
       "}\n",
       "\n",
       "mpl.figure.prototype.key_event = function(event, name) {\n",
       "\n",
       "    // Prevent repeat events\n",
       "    if (name == 'key_press')\n",
       "    {\n",
       "        if (event.which === this._key)\n",
       "            return;\n",
       "        else\n",
       "            this._key = event.which;\n",
       "    }\n",
       "    if (name == 'key_release')\n",
       "        this._key = null;\n",
       "\n",
       "    var value = '';\n",
       "    if (event.ctrlKey && event.which != 17)\n",
       "        value += \"ctrl+\";\n",
       "    if (event.altKey && event.which != 18)\n",
       "        value += \"alt+\";\n",
       "    if (event.shiftKey && event.which != 16)\n",
       "        value += \"shift+\";\n",
       "\n",
       "    value += 'k';\n",
       "    value += event.which.toString();\n",
       "\n",
       "    this._key_event_extra(event, name);\n",
       "\n",
       "    this.send_message(name, {key: value,\n",
       "                             guiEvent: simpleKeys(event)});\n",
       "    return false;\n",
       "}\n",
       "\n",
       "mpl.figure.prototype.toolbar_button_onclick = function(name) {\n",
       "    if (name == 'download') {\n",
       "        this.handle_save(this, null);\n",
       "    } else {\n",
       "        this.send_message(\"toolbar_button\", {name: name});\n",
       "    }\n",
       "};\n",
       "\n",
       "mpl.figure.prototype.toolbar_button_onmouseover = function(tooltip) {\n",
       "    this.message.textContent = tooltip;\n",
       "};\n",
       "mpl.toolbar_items = [[\"Home\", \"Reset original view\", \"fa fa-home icon-home\", \"home\"], [\"Back\", \"Back to  previous view\", \"fa fa-arrow-left icon-arrow-left\", \"back\"], [\"Forward\", \"Forward to next view\", \"fa fa-arrow-right icon-arrow-right\", \"forward\"], [\"\", \"\", \"\", \"\"], [\"Pan\", \"Pan axes with left mouse, zoom with right\", \"fa fa-arrows icon-move\", \"pan\"], [\"Zoom\", \"Zoom to rectangle\", \"fa fa-square-o icon-check-empty\", \"zoom\"], [\"\", \"\", \"\", \"\"], [\"Download\", \"Download plot\", \"fa fa-floppy-o icon-save\", \"download\"]];\n",
       "\n",
       "mpl.extensions = [\"eps\", \"jpeg\", \"pdf\", \"png\", \"ps\", \"raw\", \"svg\", \"tif\"];\n",
       "\n",
       "mpl.default_extension = \"png\";var comm_websocket_adapter = function(comm) {\n",
       "    // Create a \"websocket\"-like object which calls the given IPython comm\n",
       "    // object with the appropriate methods. Currently this is a non binary\n",
       "    // socket, so there is still some room for performance tuning.\n",
       "    var ws = {};\n",
       "\n",
       "    ws.close = function() {\n",
       "        comm.close()\n",
       "    };\n",
       "    ws.send = function(m) {\n",
       "        //console.log('sending', m);\n",
       "        comm.send(m);\n",
       "    };\n",
       "    // Register the callback with on_msg.\n",
       "    comm.on_msg(function(msg) {\n",
       "        //console.log('receiving', msg['content']['data'], msg);\n",
       "        // Pass the mpl event to the overriden (by mpl) onmessage function.\n",
       "        ws.onmessage(msg['content']['data'])\n",
       "    });\n",
       "    return ws;\n",
       "}\n",
       "\n",
       "mpl.mpl_figure_comm = function(comm, msg) {\n",
       "    // This is the function which gets called when the mpl process\n",
       "    // starts-up an IPython Comm through the \"matplotlib\" channel.\n",
       "\n",
       "    var id = msg.content.data.id;\n",
       "    // Get hold of the div created by the display call when the Comm\n",
       "    // socket was opened in Python.\n",
       "    var element = $(\"#\" + id);\n",
       "    var ws_proxy = comm_websocket_adapter(comm)\n",
       "\n",
       "    function ondownload(figure, format) {\n",
       "        window.open(figure.imageObj.src);\n",
       "    }\n",
       "\n",
       "    var fig = new mpl.figure(id, ws_proxy,\n",
       "                           ondownload,\n",
       "                           element.get(0));\n",
       "\n",
       "    // Call onopen now - mpl needs it, as it is assuming we've passed it a real\n",
       "    // web socket which is closed, not our websocket->open comm proxy.\n",
       "    ws_proxy.onopen();\n",
       "\n",
       "    fig.parent_element = element.get(0);\n",
       "    fig.cell_info = mpl.find_output_cell(\"<div id='\" + id + \"'></div>\");\n",
       "    if (!fig.cell_info) {\n",
       "        console.error(\"Failed to find cell for figure\", id, fig);\n",
       "        return;\n",
       "    }\n",
       "\n",
       "    var output_index = fig.cell_info[2]\n",
       "    var cell = fig.cell_info[0];\n",
       "\n",
       "};\n",
       "\n",
       "mpl.figure.prototype.handle_close = function(fig, msg) {\n",
       "    var width = fig.canvas.width/mpl.ratio\n",
       "    fig.root.unbind('remove')\n",
       "\n",
       "    // Update the output cell to use the data from the current canvas.\n",
       "    fig.push_to_output();\n",
       "    var dataURL = fig.canvas.toDataURL();\n",
       "    // Re-enable the keyboard manager in IPython - without this line, in FF,\n",
       "    // the notebook keyboard shortcuts fail.\n",
       "    IPython.keyboard_manager.enable()\n",
       "    $(fig.parent_element).html('<img src=\"' + dataURL + '\" width=\"' + width + '\">');\n",
       "    fig.close_ws(fig, msg);\n",
       "}\n",
       "\n",
       "mpl.figure.prototype.close_ws = function(fig, msg){\n",
       "    fig.send_message('closing', msg);\n",
       "    // fig.ws.close()\n",
       "}\n",
       "\n",
       "mpl.figure.prototype.push_to_output = function(remove_interactive) {\n",
       "    // Turn the data on the canvas into data in the output cell.\n",
       "    var width = this.canvas.width/mpl.ratio\n",
       "    var dataURL = this.canvas.toDataURL();\n",
       "    this.cell_info[1]['text/html'] = '<img src=\"' + dataURL + '\" width=\"' + width + '\">';\n",
       "}\n",
       "\n",
       "mpl.figure.prototype.updated_canvas_event = function() {\n",
       "    // Tell IPython that the notebook contents must change.\n",
       "    IPython.notebook.set_dirty(true);\n",
       "    this.send_message(\"ack\", {});\n",
       "    var fig = this;\n",
       "    // Wait a second, then push the new image to the DOM so\n",
       "    // that it is saved nicely (might be nice to debounce this).\n",
       "    setTimeout(function () { fig.push_to_output() }, 1000);\n",
       "}\n",
       "\n",
       "mpl.figure.prototype._init_toolbar = function() {\n",
       "    var fig = this;\n",
       "\n",
       "    var nav_element = $('<div/>')\n",
       "    nav_element.attr('style', 'width: 100%');\n",
       "    this.root.append(nav_element);\n",
       "\n",
       "    // Define a callback function for later on.\n",
       "    function toolbar_event(event) {\n",
       "        return fig.toolbar_button_onclick(event['data']);\n",
       "    }\n",
       "    function toolbar_mouse_event(event) {\n",
       "        return fig.toolbar_button_onmouseover(event['data']);\n",
       "    }\n",
       "\n",
       "    for(var toolbar_ind in mpl.toolbar_items){\n",
       "        var name = mpl.toolbar_items[toolbar_ind][0];\n",
       "        var tooltip = mpl.toolbar_items[toolbar_ind][1];\n",
       "        var image = mpl.toolbar_items[toolbar_ind][2];\n",
       "        var method_name = mpl.toolbar_items[toolbar_ind][3];\n",
       "\n",
       "        if (!name) { continue; };\n",
       "\n",
       "        var button = $('<button class=\"btn btn-default\" href=\"#\" title=\"' + name + '\"><i class=\"fa ' + image + ' fa-lg\"></i></button>');\n",
       "        button.click(method_name, toolbar_event);\n",
       "        button.mouseover(tooltip, toolbar_mouse_event);\n",
       "        nav_element.append(button);\n",
       "    }\n",
       "\n",
       "    // Add the status bar.\n",
       "    var status_bar = $('<span class=\"mpl-message\" style=\"text-align:right; float: right;\"/>');\n",
       "    nav_element.append(status_bar);\n",
       "    this.message = status_bar[0];\n",
       "\n",
       "    // Add the close button to the window.\n",
       "    var buttongrp = $('<div class=\"btn-group inline pull-right\"></div>');\n",
       "    var button = $('<button class=\"btn btn-mini btn-primary\" href=\"#\" title=\"Stop Interaction\"><i class=\"fa fa-power-off icon-remove icon-large\"></i></button>');\n",
       "    button.click(function (evt) { fig.handle_close(fig, {}); } );\n",
       "    button.mouseover('Stop Interaction', toolbar_mouse_event);\n",
       "    buttongrp.append(button);\n",
       "    var titlebar = this.root.find($('.ui-dialog-titlebar'));\n",
       "    titlebar.prepend(buttongrp);\n",
       "}\n",
       "\n",
       "mpl.figure.prototype._root_extra_style = function(el){\n",
       "    var fig = this\n",
       "    el.on(\"remove\", function(){\n",
       "\tfig.close_ws(fig, {});\n",
       "    });\n",
       "}\n",
       "\n",
       "mpl.figure.prototype._canvas_extra_style = function(el){\n",
       "    // this is important to make the div 'focusable\n",
       "    el.attr('tabindex', 0)\n",
       "    // reach out to IPython and tell the keyboard manager to turn it's self\n",
       "    // off when our div gets focus\n",
       "\n",
       "    // location in version 3\n",
       "    if (IPython.notebook.keyboard_manager) {\n",
       "        IPython.notebook.keyboard_manager.register_events(el);\n",
       "    }\n",
       "    else {\n",
       "        // location in version 2\n",
       "        IPython.keyboard_manager.register_events(el);\n",
       "    }\n",
       "\n",
       "}\n",
       "\n",
       "mpl.figure.prototype._key_event_extra = function(event, name) {\n",
       "    var manager = IPython.notebook.keyboard_manager;\n",
       "    if (!manager)\n",
       "        manager = IPython.keyboard_manager;\n",
       "\n",
       "    // Check for shift+enter\n",
       "    if (event.shiftKey && event.which == 13) {\n",
       "        this.canvas_div.blur();\n",
       "        // select the cell after this one\n",
       "        var index = IPython.notebook.find_cell_index(this.cell_info[0]);\n",
       "        IPython.notebook.select(index + 1);\n",
       "    }\n",
       "}\n",
       "\n",
       "mpl.figure.prototype.handle_save = function(fig, msg) {\n",
       "    fig.ondownload(fig, null);\n",
       "}\n",
       "\n",
       "\n",
       "mpl.find_output_cell = function(html_output) {\n",
       "    // Return the cell and output element which can be found *uniquely* in the notebook.\n",
       "    // Note - this is a bit hacky, but it is done because the \"notebook_saving.Notebook\"\n",
       "    // IPython event is triggered only after the cells have been serialised, which for\n",
       "    // our purposes (turning an active figure into a static one), is too late.\n",
       "    var cells = IPython.notebook.get_cells();\n",
       "    var ncells = cells.length;\n",
       "    for (var i=0; i<ncells; i++) {\n",
       "        var cell = cells[i];\n",
       "        if (cell.cell_type === 'code'){\n",
       "            for (var j=0; j<cell.output_area.outputs.length; j++) {\n",
       "                var data = cell.output_area.outputs[j];\n",
       "                if (data.data) {\n",
       "                    // IPython >= 3 moved mimebundle to data attribute of output\n",
       "                    data = data.data;\n",
       "                }\n",
       "                if (data['text/html'] == html_output) {\n",
       "                    return [cell, data, j];\n",
       "                }\n",
       "            }\n",
       "        }\n",
       "    }\n",
       "}\n",
       "\n",
       "// Register the function which deals with the matplotlib target/channel.\n",
       "// The kernel may be null if the page has been refreshed.\n",
       "if (IPython.notebook.kernel != null) {\n",
       "    IPython.notebook.kernel.comm_manager.register_target('matplotlib', mpl.mpl_figure_comm);\n",
       "}\n"
      ],
      "text/plain": [
       "<IPython.core.display.Javascript object>"
      ]
     },
     "metadata": {},
     "output_type": "display_data"
    },
    {
     "data": {
      "text/html": [
       "<img src=\"data:image/png;base64,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\" width=\"900\">"
      ],
      "text/plain": [
       "<IPython.core.display.HTML object>"
      ]
     },
     "metadata": {},
     "output_type": "display_data"
    }
   ],
   "source": [
    "notebook.plot_pareto_fronts.display()"
   ]
  },
  {
   "cell_type": "markdown",
   "metadata": {
    "deletable": true,
    "editable": true
   },
   "source": [
    "## Plot observable"
   ]
  },
  {
   "cell_type": "code",
   "execution_count": 5,
   "metadata": {
    "collapsed": false,
    "deletable": true,
    "editable": true
   },
   "outputs": [
    {
     "data": {
      "application/vnd.jupyter.widget-view+json": {
       "model_id": "17e7aa1a967d4c73b935047f945fe65d"
      }
     },
     "metadata": {},
     "output_type": "display_data"
    }
   ],
   "source": [
    "notebook.plot_evolution_observable.display()"
   ]
  },
  {
   "cell_type": "markdown",
   "metadata": {
    "deletable": true,
    "editable": true
   },
   "source": [
    "## Select Generation"
   ]
  },
  {
   "cell_type": "code",
   "execution_count": 6,
   "metadata": {
    "collapsed": false,
    "deletable": true,
    "editable": true
   },
   "outputs": [
    {
     "data": {
      "application/vnd.jupyter.widget-view+json": {
       "model_id": "b60d3e7437724497b5ee9081a9ea2423"
      }
     },
     "metadata": {},
     "output_type": "display_data"
    }
   ],
   "source": [
    "notebook.select_generation.display()"
   ]
  },
  {
   "cell_type": "markdown",
   "metadata": {
    "deletable": true,
    "editable": true
   },
   "source": [
    "## PLot Layout"
   ]
  },
  {
   "cell_type": "code",
   "execution_count": 7,
   "metadata": {
    "collapsed": false,
    "deletable": true,
    "editable": true
   },
   "outputs": [
    {
     "data": {
      "application/vnd.jupyter.widget-view+json": {
       "model_id": "c895a7c78c224115b05ed025f40d57a8"
      }
     },
     "metadata": {},
     "output_type": "display_data"
    }
   ],
   "source": [
    "notebook.plot_layout.display()"
   ]
  },
  {
   "cell_type": "markdown",
   "metadata": {
    "deletable": true,
    "editable": true
   },
   "source": [
    "## Run Dynamics"
   ]
  },
  {
   "cell_type": "code",
   "execution_count": 8,
   "metadata": {
    "collapsed": false,
    "deletable": true,
    "editable": true
   },
   "outputs": [
    {
     "data": {
      "application/vnd.jupyter.widget-view+json": {
       "model_id": "881a19cb316c479c9c6164bb92a49400"
      }
     },
     "metadata": {},
     "output_type": "display_data"
    }
   ],
   "source": [
    "notebook.run_dynamics.display()"
   ]
  },
  {
   "cell_type": "markdown",
   "metadata": {
    "deletable": true,
    "editable": true
   },
   "source": [
    "## Plot Cell Profile"
   ]
  },
  {
   "cell_type": "code",
   "execution_count": 9,
   "metadata": {
    "collapsed": false,
    "deletable": true,
    "editable": true
   },
   "outputs": [
    {
     "data": {
      "application/vnd.jupyter.widget-view+json": {
       "model_id": "2eb96819cd214ecc95b27d74969f7fbb"
      }
     },
     "metadata": {},
     "output_type": "display_data"
    }
   ],
   "source": [
    "notebook.plot_cell_profile.display()"
   ]
  },
  {
   "cell_type": "markdown",
   "metadata": {
    "deletable": true,
    "editable": true
   },
   "source": [
    "## Plot Dynamics"
   ]
  },
  {
   "cell_type": "code",
   "execution_count": 10,
   "metadata": {
    "collapsed": false,
    "deletable": true,
    "editable": true
   },
   "outputs": [
    {
     "data": {
      "application/vnd.jupyter.widget-view+json": {
       "model_id": "20b3156707d6434d90bd86e7400abbbe"
      }
     },
     "metadata": {},
     "output_type": "display_data"
    }
   ],
   "source": [
    "notebook.plot_dynamics.display()"
   ]
  },
  {
   "cell_type": "code",
   "execution_count": null,
   "metadata": {
    "collapsed": true,
    "deletable": true,
    "editable": true
   },
   "outputs": [],
   "source": []
  }
 ],
 "metadata": {
  "kernelspec": {
   "display_name": "Python 3",
   "language": "python",
   "name": "python3"
  },
  "language_info": {
   "codemirror_mode": {
    "name": "ipython",
    "version": 3
   },
   "file_extension": ".py",
   "mimetype": "text/x-python",
   "name": "python",
   "nbconvert_exporter": "python",
   "pygments_lexer": "ipython3",
   "version": "3.5.3"
  },
  "widgets": {
   "state": {
    "3598eb7646394352ab73d6907bfa607d": {
     "views": [
      {
       "cell_index": 6
      }
     ]
    },
    "4118ded886f54c2eb0ca23145229c187": {
     "views": [
      {
       "cell_index": 10
      }
     ]
    },
    "8dfc65a8698340cbb702064232e2b908": {
     "views": [
      {
       "cell_index": 14
      }
     ]
    },
    "90d3134d143546638aa15b9d929a17b5": {
     "views": [
      {
       "cell_index": 16
      }
     ]
    },
    "bd2b7b131f324aba8d386ed46df23009": {
     "views": [
      {
       "cell_index": 8
      }
     ]
    },
    "c12b3fde939e49b08792c5cfa1558d2f": {
     "views": [
      {
       "cell_index": 12
      }
     ]
    },
    "dc4fac0bb3134c8ea22646980d8fc8a9": {
     "views": [
      {
       "cell_index": 18
      }
     ]
    },
    "f4663082efc347929023025c4e326e5d": {
     "views": [
      {
       "cell_index": 4
      }
     ]
    },
    "fcedbb95c6f940e28fc262dab1634ce5": {
     "views": [
      {
       "cell_index": 20
      }
     ]
    }
   },
   "version": "1.2.0"
  }
 },
 "nbformat": 4,
 "nbformat_minor": 1
}
