{
 "cells": [
  {
   "cell_type": "markdown",
   "metadata": {},
   "source": [
    "# Analyse Run #\n",
    "\n",
    "This is a template notebook to browse the results of a evolution simulation.\n",
    "\n",
    "Please _Restart & Run All_ to make shure you start with a clean notebook."
   ]
  },
  {
   "cell_type": "markdown",
   "metadata": {},
   "source": [
    "## Import required libraries"
   ]
  },
  {
   "cell_type": "code",
   "execution_count": 1,
   "metadata": {
    "collapsed": true
   },
   "outputs": [],
   "source": [
    "%matplotlib notebook\n",
    "import matplotlib.pyplot as plt\n",
    "import numpy as np\n",
    "from  ipywidgets import widgets \n",
    "from ipywidgets import interact, interactive, fixed\n",
    "from IPython.display import display,HTML,clear_output\n",
    "import os\n",
    "HTML('''<script>code_show=true;function code_toggle() {if (code_show){$('div.input').hide();} else {$('div.input').show();} code_show = !code_show} $( document ).ready(code_toggle);</script><form action=\"javascript:code_toggle()\"><input type=\"submit\" value=\"Click here to toggle on/off the raw code.\"></form>''')\n",
    "import phievo.AnalysisTools as AT\n",
    "from  phievo.AnalysisTools.Notebook import Notebook\n",
    "\n",
    "notebook = Notebook()\n"
   ]
  },
  {
   "cell_type": "markdown",
   "metadata": {},
   "source": [
    "## Select the Project"
   ]
  },
  {
   "cell_type": "code",
   "execution_count": 2,
   "metadata": {},
   "outputs": [
    {
     "name": "stderr",
     "output_type": "stream",
     "text": [
      "Widget Javascript not detected.  It may not be installed or enabled properly.\n"
     ]
    },
    {
     "data": {
      "application/vnd.jupyter.widget-view+json": {
       "model_id": "c3a02163090043fb9e0e5239532678f9"
      }
     },
     "metadata": {},
     "output_type": "display_data"
    },
    {
     "name": "stdout",
     "output_type": "stream",
     "text": [
      "Remark: No pfile object in init* file, use default one (see check_model_dir)!\n",
      "To load a new project, please restart the kernel\n",
      "Kernel > Restart & Run All\n"
     ]
    }
   ],
   "source": [
    "notebook.select_project.display()"
   ]
  },
  {
   "cell_type": "markdown",
   "metadata": {},
   "source": [
    "## Select Seed"
   ]
  },
  {
   "cell_type": "code",
   "execution_count": 3,
   "metadata": {},
   "outputs": [
    {
     "name": "stderr",
     "output_type": "stream",
     "text": [
      "Widget Javascript not detected.  It may not be installed or enabled properly.\n"
     ]
    },
    {
     "data": {
      "application/vnd.jupyter.widget-view+json": {
       "model_id": "d529b870a9d342c3adef688948a53ca1"
      }
     },
     "metadata": {},
     "output_type": "display_data"
    }
   ],
   "source": [
    "notebook.select_seed.display()"
   ]
  },
  {
   "cell_type": "markdown",
   "metadata": {},
   "source": [
    "## Plot Pareto Fronts"
   ]
  },
  {
   "cell_type": "code",
   "execution_count": 4,
   "metadata": {},
   "outputs": [
    {
     "name": "stderr",
     "output_type": "stream",
     "text": [
      "Widget Javascript not detected.  It may not be installed or enabled properly.\n"
     ]
    },
    {
     "data": {
      "application/vnd.jupyter.widget-view+json": {
       "model_id": "fc62d0d7df6b4f66a744b986a6b64c7c"
      }
     },
     "metadata": {},
     "output_type": "display_data"
    }
   ],
   "source": [
    "notebook.plot_pareto_fronts.display()"
   ]
  },
  {
   "cell_type": "markdown",
   "metadata": {},
   "source": [
    "## Plot observable"
   ]
  },
  {
   "cell_type": "code",
   "execution_count": 5,
   "metadata": {},
   "outputs": [
    {
     "name": "stderr",
     "output_type": "stream",
     "text": [
      "Widget Javascript not detected.  It may not be installed or enabled properly.\n"
     ]
    },
    {
     "data": {
      "application/vnd.jupyter.widget-view+json": {
       "model_id": "3224af2d59454bd7b3ad79c22c1c959f"
      }
     },
     "metadata": {},
     "output_type": "display_data"
    }
   ],
   "source": [
    "notebook.plot_evolution_observable.display()"
   ]
  },
  {
   "cell_type": "markdown",
   "metadata": {},
   "source": [
    "## Select Generation"
   ]
  },
  {
   "cell_type": "code",
   "execution_count": 6,
   "metadata": {},
   "outputs": [
    {
     "name": "stderr",
     "output_type": "stream",
     "text": [
      "Widget Javascript not detected.  It may not be installed or enabled properly.\n"
     ]
    },
    {
     "data": {
      "application/vnd.jupyter.widget-view+json": {
       "model_id": "9f07b3ce37ae407e84c0367c0d1a5845"
      }
     },
     "metadata": {},
     "output_type": "display_data"
    }
   ],
   "source": [
    "notebook.select_generation.display()"
   ]
  },
  {
   "cell_type": "markdown",
   "metadata": {},
   "source": [
    "## PLot Layout"
   ]
  },
  {
   "cell_type": "code",
   "execution_count": 7,
   "metadata": {},
   "outputs": [
    {
     "data": {
      "application/javascript": [
       "/* Put everything inside the global mpl namespace */\n",
       "window.mpl = {};\n",
       "\n",
       "\n",
       "mpl.get_websocket_type = function() {\n",
       "    if (typeof(WebSocket) !== 'undefined') {\n",
       "        return WebSocket;\n",
       "    } else if (typeof(MozWebSocket) !== 'undefined') {\n",
       "        return MozWebSocket;\n",
       "    } else {\n",
       "        alert('Your browser does not have WebSocket support.' +\n",
       "              'Please try Chrome, Safari or Firefox ≥ 6. ' +\n",
       "              'Firefox 4 and 5 are also supported but you ' +\n",
       "              'have to enable WebSockets in about:config.');\n",
       "    };\n",
       "}\n",
       "\n",
       "mpl.figure = function(figure_id, websocket, ondownload, parent_element) {\n",
       "    this.id = figure_id;\n",
       "\n",
       "    this.ws = websocket;\n",
       "\n",
       "    this.supports_binary = (this.ws.binaryType != undefined);\n",
       "\n",
       "    if (!this.supports_binary) {\n",
       "        var warnings = document.getElementById(\"mpl-warnings\");\n",
       "        if (warnings) {\n",
       "            warnings.style.display = 'block';\n",
       "            warnings.textContent = (\n",
       "                \"This browser does not support binary websocket messages. \" +\n",
       "                    \"Performance may be slow.\");\n",
       "        }\n",
       "    }\n",
       "\n",
       "    this.imageObj = new Image();\n",
       "\n",
       "    this.context = undefined;\n",
       "    this.message = undefined;\n",
       "    this.canvas = undefined;\n",
       "    this.rubberband_canvas = undefined;\n",
       "    this.rubberband_context = undefined;\n",
       "    this.format_dropdown = undefined;\n",
       "\n",
       "    this.image_mode = 'full';\n",
       "\n",
       "    this.root = $('<div/>');\n",
       "    this._root_extra_style(this.root)\n",
       "    this.root.attr('style', 'display: inline-block');\n",
       "\n",
       "    $(parent_element).append(this.root);\n",
       "\n",
       "    this._init_header(this);\n",
       "    this._init_canvas(this);\n",
       "    this._init_toolbar(this);\n",
       "\n",
       "    var fig = this;\n",
       "\n",
       "    this.waiting = false;\n",
       "\n",
       "    this.ws.onopen =  function () {\n",
       "            fig.send_message(\"supports_binary\", {value: fig.supports_binary});\n",
       "            fig.send_message(\"send_image_mode\", {});\n",
       "            if (mpl.ratio != 1) {\n",
       "                fig.send_message(\"set_dpi_ratio\", {'dpi_ratio': mpl.ratio});\n",
       "            }\n",
       "            fig.send_message(\"refresh\", {});\n",
       "        }\n",
       "\n",
       "    this.imageObj.onload = function() {\n",
       "            if (fig.image_mode == 'full') {\n",
       "                // Full images could contain transparency (where diff images\n",
       "                // almost always do), so we need to clear the canvas so that\n",
       "                // there is no ghosting.\n",
       "                fig.context.clearRect(0, 0, fig.canvas.width, fig.canvas.height);\n",
       "            }\n",
       "            fig.context.drawImage(fig.imageObj, 0, 0);\n",
       "        };\n",
       "\n",
       "    this.imageObj.onunload = function() {\n",
       "        this.ws.close();\n",
       "    }\n",
       "\n",
       "    this.ws.onmessage = this._make_on_message_function(this);\n",
       "\n",
       "    this.ondownload = ondownload;\n",
       "}\n",
       "\n",
       "mpl.figure.prototype._init_header = function() {\n",
       "    var titlebar = $(\n",
       "        '<div class=\"ui-dialog-titlebar ui-widget-header ui-corner-all ' +\n",
       "        'ui-helper-clearfix\"/>');\n",
       "    var titletext = $(\n",
       "        '<div class=\"ui-dialog-title\" style=\"width: 100%; ' +\n",
       "        'text-align: center; padding: 3px;\"/>');\n",
       "    titlebar.append(titletext)\n",
       "    this.root.append(titlebar);\n",
       "    this.header = titletext[0];\n",
       "}\n",
       "\n",
       "\n",
       "\n",
       "mpl.figure.prototype._canvas_extra_style = function(canvas_div) {\n",
       "\n",
       "}\n",
       "\n",
       "\n",
       "mpl.figure.prototype._root_extra_style = function(canvas_div) {\n",
       "\n",
       "}\n",
       "\n",
       "mpl.figure.prototype._init_canvas = function() {\n",
       "    var fig = this;\n",
       "\n",
       "    var canvas_div = $('<div/>');\n",
       "\n",
       "    canvas_div.attr('style', 'position: relative; clear: both; outline: 0');\n",
       "\n",
       "    function canvas_keyboard_event(event) {\n",
       "        return fig.key_event(event, event['data']);\n",
       "    }\n",
       "\n",
       "    canvas_div.keydown('key_press', canvas_keyboard_event);\n",
       "    canvas_div.keyup('key_release', canvas_keyboard_event);\n",
       "    this.canvas_div = canvas_div\n",
       "    this._canvas_extra_style(canvas_div)\n",
       "    this.root.append(canvas_div);\n",
       "\n",
       "    var canvas = $('<canvas/>');\n",
       "    canvas.addClass('mpl-canvas');\n",
       "    canvas.attr('style', \"left: 0; top: 0; z-index: 0; outline: 0\")\n",
       "\n",
       "    this.canvas = canvas[0];\n",
       "    this.context = canvas[0].getContext(\"2d\");\n",
       "\n",
       "    var backingStore = this.context.backingStorePixelRatio ||\n",
       "\tthis.context.webkitBackingStorePixelRatio ||\n",
       "\tthis.context.mozBackingStorePixelRatio ||\n",
       "\tthis.context.msBackingStorePixelRatio ||\n",
       "\tthis.context.oBackingStorePixelRatio ||\n",
       "\tthis.context.backingStorePixelRatio || 1;\n",
       "\n",
       "    mpl.ratio = (window.devicePixelRatio || 1) / backingStore;\n",
       "\n",
       "    var rubberband = $('<canvas/>');\n",
       "    rubberband.attr('style', \"position: absolute; left: 0; top: 0; z-index: 1;\")\n",
       "\n",
       "    var pass_mouse_events = true;\n",
       "\n",
       "    canvas_div.resizable({\n",
       "        start: function(event, ui) {\n",
       "            pass_mouse_events = false;\n",
       "        },\n",
       "        resize: function(event, ui) {\n",
       "            fig.request_resize(ui.size.width, ui.size.height);\n",
       "        },\n",
       "        stop: function(event, ui) {\n",
       "            pass_mouse_events = true;\n",
       "            fig.request_resize(ui.size.width, ui.size.height);\n",
       "        },\n",
       "    });\n",
       "\n",
       "    function mouse_event_fn(event) {\n",
       "        if (pass_mouse_events)\n",
       "            return fig.mouse_event(event, event['data']);\n",
       "    }\n",
       "\n",
       "    rubberband.mousedown('button_press', mouse_event_fn);\n",
       "    rubberband.mouseup('button_release', mouse_event_fn);\n",
       "    // Throttle sequential mouse events to 1 every 20ms.\n",
       "    rubberband.mousemove('motion_notify', mouse_event_fn);\n",
       "\n",
       "    rubberband.mouseenter('figure_enter', mouse_event_fn);\n",
       "    rubberband.mouseleave('figure_leave', mouse_event_fn);\n",
       "\n",
       "    canvas_div.on(\"wheel\", function (event) {\n",
       "        event = event.originalEvent;\n",
       "        event['data'] = 'scroll'\n",
       "        if (event.deltaY < 0) {\n",
       "            event.step = 1;\n",
       "        } else {\n",
       "            event.step = -1;\n",
       "        }\n",
       "        mouse_event_fn(event);\n",
       "    });\n",
       "\n",
       "    canvas_div.append(canvas);\n",
       "    canvas_div.append(rubberband);\n",
       "\n",
       "    this.rubberband = rubberband;\n",
       "    this.rubberband_canvas = rubberband[0];\n",
       "    this.rubberband_context = rubberband[0].getContext(\"2d\");\n",
       "    this.rubberband_context.strokeStyle = \"#000000\";\n",
       "\n",
       "    this._resize_canvas = function(width, height) {\n",
       "        // Keep the size of the canvas, canvas container, and rubber band\n",
       "        // canvas in synch.\n",
       "        canvas_div.css('width', width)\n",
       "        canvas_div.css('height', height)\n",
       "\n",
       "        canvas.attr('width', width * mpl.ratio);\n",
       "        canvas.attr('height', height * mpl.ratio);\n",
       "        canvas.attr('style', 'width: ' + width + 'px; height: ' + height + 'px;');\n",
       "\n",
       "        rubberband.attr('width', width);\n",
       "        rubberband.attr('height', height);\n",
       "    }\n",
       "\n",
       "    // Set the figure to an initial 600x600px, this will subsequently be updated\n",
       "    // upon first draw.\n",
       "    this._resize_canvas(600, 600);\n",
       "\n",
       "    // Disable right mouse context menu.\n",
       "    $(this.rubberband_canvas).bind(\"contextmenu\",function(e){\n",
       "        return false;\n",
       "    });\n",
       "\n",
       "    function set_focus () {\n",
       "        canvas.focus();\n",
       "        canvas_div.focus();\n",
       "    }\n",
       "\n",
       "    window.setTimeout(set_focus, 100);\n",
       "}\n",
       "\n",
       "mpl.figure.prototype._init_toolbar = function() {\n",
       "    var fig = this;\n",
       "\n",
       "    var nav_element = $('<div/>')\n",
       "    nav_element.attr('style', 'width: 100%');\n",
       "    this.root.append(nav_element);\n",
       "\n",
       "    // Define a callback function for later on.\n",
       "    function toolbar_event(event) {\n",
       "        return fig.toolbar_button_onclick(event['data']);\n",
       "    }\n",
       "    function toolbar_mouse_event(event) {\n",
       "        return fig.toolbar_button_onmouseover(event['data']);\n",
       "    }\n",
       "\n",
       "    for(var toolbar_ind in mpl.toolbar_items) {\n",
       "        var name = mpl.toolbar_items[toolbar_ind][0];\n",
       "        var tooltip = mpl.toolbar_items[toolbar_ind][1];\n",
       "        var image = mpl.toolbar_items[toolbar_ind][2];\n",
       "        var method_name = mpl.toolbar_items[toolbar_ind][3];\n",
       "\n",
       "        if (!name) {\n",
       "            // put a spacer in here.\n",
       "            continue;\n",
       "        }\n",
       "        var button = $('<button/>');\n",
       "        button.addClass('ui-button ui-widget ui-state-default ui-corner-all ' +\n",
       "                        'ui-button-icon-only');\n",
       "        button.attr('role', 'button');\n",
       "        button.attr('aria-disabled', 'false');\n",
       "        button.click(method_name, toolbar_event);\n",
       "        button.mouseover(tooltip, toolbar_mouse_event);\n",
       "\n",
       "        var icon_img = $('<span/>');\n",
       "        icon_img.addClass('ui-button-icon-primary ui-icon');\n",
       "        icon_img.addClass(image);\n",
       "        icon_img.addClass('ui-corner-all');\n",
       "\n",
       "        var tooltip_span = $('<span/>');\n",
       "        tooltip_span.addClass('ui-button-text');\n",
       "        tooltip_span.html(tooltip);\n",
       "\n",
       "        button.append(icon_img);\n",
       "        button.append(tooltip_span);\n",
       "\n",
       "        nav_element.append(button);\n",
       "    }\n",
       "\n",
       "    var fmt_picker_span = $('<span/>');\n",
       "\n",
       "    var fmt_picker = $('<select/>');\n",
       "    fmt_picker.addClass('mpl-toolbar-option ui-widget ui-widget-content');\n",
       "    fmt_picker_span.append(fmt_picker);\n",
       "    nav_element.append(fmt_picker_span);\n",
       "    this.format_dropdown = fmt_picker[0];\n",
       "\n",
       "    for (var ind in mpl.extensions) {\n",
       "        var fmt = mpl.extensions[ind];\n",
       "        var option = $(\n",
       "            '<option/>', {selected: fmt === mpl.default_extension}).html(fmt);\n",
       "        fmt_picker.append(option)\n",
       "    }\n",
       "\n",
       "    // Add hover states to the ui-buttons\n",
       "    $( \".ui-button\" ).hover(\n",
       "        function() { $(this).addClass(\"ui-state-hover\");},\n",
       "        function() { $(this).removeClass(\"ui-state-hover\");}\n",
       "    );\n",
       "\n",
       "    var status_bar = $('<span class=\"mpl-message\"/>');\n",
       "    nav_element.append(status_bar);\n",
       "    this.message = status_bar[0];\n",
       "}\n",
       "\n",
       "mpl.figure.prototype.request_resize = function(x_pixels, y_pixels) {\n",
       "    // Request matplotlib to resize the figure. Matplotlib will then trigger a resize in the client,\n",
       "    // which will in turn request a refresh of the image.\n",
       "    this.send_message('resize', {'width': x_pixels, 'height': y_pixels});\n",
       "}\n",
       "\n",
       "mpl.figure.prototype.send_message = function(type, properties) {\n",
       "    properties['type'] = type;\n",
       "    properties['figure_id'] = this.id;\n",
       "    this.ws.send(JSON.stringify(properties));\n",
       "}\n",
       "\n",
       "mpl.figure.prototype.send_draw_message = function() {\n",
       "    if (!this.waiting) {\n",
       "        this.waiting = true;\n",
       "        this.ws.send(JSON.stringify({type: \"draw\", figure_id: this.id}));\n",
       "    }\n",
       "}\n",
       "\n",
       "\n",
       "mpl.figure.prototype.handle_save = function(fig, msg) {\n",
       "    var format_dropdown = fig.format_dropdown;\n",
       "    var format = format_dropdown.options[format_dropdown.selectedIndex].value;\n",
       "    fig.ondownload(fig, format);\n",
       "}\n",
       "\n",
       "\n",
       "mpl.figure.prototype.handle_resize = function(fig, msg) {\n",
       "    var size = msg['size'];\n",
       "    if (size[0] != fig.canvas.width || size[1] != fig.canvas.height) {\n",
       "        fig._resize_canvas(size[0], size[1]);\n",
       "        fig.send_message(\"refresh\", {});\n",
       "    };\n",
       "}\n",
       "\n",
       "mpl.figure.prototype.handle_rubberband = function(fig, msg) {\n",
       "    var x0 = msg['x0'] / mpl.ratio;\n",
       "    var y0 = (fig.canvas.height - msg['y0']) / mpl.ratio;\n",
       "    var x1 = msg['x1'] / mpl.ratio;\n",
       "    var y1 = (fig.canvas.height - msg['y1']) / mpl.ratio;\n",
       "    x0 = Math.floor(x0) + 0.5;\n",
       "    y0 = Math.floor(y0) + 0.5;\n",
       "    x1 = Math.floor(x1) + 0.5;\n",
       "    y1 = Math.floor(y1) + 0.5;\n",
       "    var min_x = Math.min(x0, x1);\n",
       "    var min_y = Math.min(y0, y1);\n",
       "    var width = Math.abs(x1 - x0);\n",
       "    var height = Math.abs(y1 - y0);\n",
       "\n",
       "    fig.rubberband_context.clearRect(\n",
       "        0, 0, fig.canvas.width, fig.canvas.height);\n",
       "\n",
       "    fig.rubberband_context.strokeRect(min_x, min_y, width, height);\n",
       "}\n",
       "\n",
       "mpl.figure.prototype.handle_figure_label = function(fig, msg) {\n",
       "    // Updates the figure title.\n",
       "    fig.header.textContent = msg['label'];\n",
       "}\n",
       "\n",
       "mpl.figure.prototype.handle_cursor = function(fig, msg) {\n",
       "    var cursor = msg['cursor'];\n",
       "    switch(cursor)\n",
       "    {\n",
       "    case 0:\n",
       "        cursor = 'pointer';\n",
       "        break;\n",
       "    case 1:\n",
       "        cursor = 'default';\n",
       "        break;\n",
       "    case 2:\n",
       "        cursor = 'crosshair';\n",
       "        break;\n",
       "    case 3:\n",
       "        cursor = 'move';\n",
       "        break;\n",
       "    }\n",
       "    fig.rubberband_canvas.style.cursor = cursor;\n",
       "}\n",
       "\n",
       "mpl.figure.prototype.handle_message = function(fig, msg) {\n",
       "    fig.message.textContent = msg['message'];\n",
       "}\n",
       "\n",
       "mpl.figure.prototype.handle_draw = function(fig, msg) {\n",
       "    // Request the server to send over a new figure.\n",
       "    fig.send_draw_message();\n",
       "}\n",
       "\n",
       "mpl.figure.prototype.handle_image_mode = function(fig, msg) {\n",
       "    fig.image_mode = msg['mode'];\n",
       "}\n",
       "\n",
       "mpl.figure.prototype.updated_canvas_event = function() {\n",
       "    // Called whenever the canvas gets updated.\n",
       "    this.send_message(\"ack\", {});\n",
       "}\n",
       "\n",
       "// A function to construct a web socket function for onmessage handling.\n",
       "// Called in the figure constructor.\n",
       "mpl.figure.prototype._make_on_message_function = function(fig) {\n",
       "    return function socket_on_message(evt) {\n",
       "        if (evt.data instanceof Blob) {\n",
       "            /* FIXME: We get \"Resource interpreted as Image but\n",
       "             * transferred with MIME type text/plain:\" errors on\n",
       "             * Chrome.  But how to set the MIME type?  It doesn't seem\n",
       "             * to be part of the websocket stream */\n",
       "            evt.data.type = \"image/png\";\n",
       "\n",
       "            /* Free the memory for the previous frames */\n",
       "            if (fig.imageObj.src) {\n",
       "                (window.URL || window.webkitURL).revokeObjectURL(\n",
       "                    fig.imageObj.src);\n",
       "            }\n",
       "\n",
       "            fig.imageObj.src = (window.URL || window.webkitURL).createObjectURL(\n",
       "                evt.data);\n",
       "            fig.updated_canvas_event();\n",
       "            fig.waiting = false;\n",
       "            return;\n",
       "        }\n",
       "        else if (typeof evt.data === 'string' && evt.data.slice(0, 21) == \"data:image/png;base64\") {\n",
       "            fig.imageObj.src = evt.data;\n",
       "            fig.updated_canvas_event();\n",
       "            fig.waiting = false;\n",
       "            return;\n",
       "        }\n",
       "\n",
       "        var msg = JSON.parse(evt.data);\n",
       "        var msg_type = msg['type'];\n",
       "\n",
       "        // Call the  \"handle_{type}\" callback, which takes\n",
       "        // the figure and JSON message as its only arguments.\n",
       "        try {\n",
       "            var callback = fig[\"handle_\" + msg_type];\n",
       "        } catch (e) {\n",
       "            console.log(\"No handler for the '\" + msg_type + \"' message type: \", msg);\n",
       "            return;\n",
       "        }\n",
       "\n",
       "        if (callback) {\n",
       "            try {\n",
       "                // console.log(\"Handling '\" + msg_type + \"' message: \", msg);\n",
       "                callback(fig, msg);\n",
       "            } catch (e) {\n",
       "                console.log(\"Exception inside the 'handler_\" + msg_type + \"' callback:\", e, e.stack, msg);\n",
       "            }\n",
       "        }\n",
       "    };\n",
       "}\n",
       "\n",
       "// from http://stackoverflow.com/questions/1114465/getting-mouse-location-in-canvas\n",
       "mpl.findpos = function(e) {\n",
       "    //this section is from http://www.quirksmode.org/js/events_properties.html\n",
       "    var targ;\n",
       "    if (!e)\n",
       "        e = window.event;\n",
       "    if (e.target)\n",
       "        targ = e.target;\n",
       "    else if (e.srcElement)\n",
       "        targ = e.srcElement;\n",
       "    if (targ.nodeType == 3) // defeat Safari bug\n",
       "        targ = targ.parentNode;\n",
       "\n",
       "    // jQuery normalizes the pageX and pageY\n",
       "    // pageX,Y are the mouse positions relative to the document\n",
       "    // offset() returns the position of the element relative to the document\n",
       "    var x = e.pageX - $(targ).offset().left;\n",
       "    var y = e.pageY - $(targ).offset().top;\n",
       "\n",
       "    return {\"x\": x, \"y\": y};\n",
       "};\n",
       "\n",
       "/*\n",
       " * return a copy of an object with only non-object keys\n",
       " * we need this to avoid circular references\n",
       " * http://stackoverflow.com/a/24161582/3208463\n",
       " */\n",
       "function simpleKeys (original) {\n",
       "  return Object.keys(original).reduce(function (obj, key) {\n",
       "    if (typeof original[key] !== 'object')\n",
       "        obj[key] = original[key]\n",
       "    return obj;\n",
       "  }, {});\n",
       "}\n",
       "\n",
       "mpl.figure.prototype.mouse_event = function(event, name) {\n",
       "    var canvas_pos = mpl.findpos(event)\n",
       "\n",
       "    if (name === 'button_press')\n",
       "    {\n",
       "        this.canvas.focus();\n",
       "        this.canvas_div.focus();\n",
       "    }\n",
       "\n",
       "    var x = canvas_pos.x * mpl.ratio;\n",
       "    var y = canvas_pos.y * mpl.ratio;\n",
       "\n",
       "    this.send_message(name, {x: x, y: y, button: event.button,\n",
       "                             step: event.step,\n",
       "                             guiEvent: simpleKeys(event)});\n",
       "\n",
       "    /* This prevents the web browser from automatically changing to\n",
       "     * the text insertion cursor when the button is pressed.  We want\n",
       "     * to control all of the cursor setting manually through the\n",
       "     * 'cursor' event from matplotlib */\n",
       "    event.preventDefault();\n",
       "    return false;\n",
       "}\n",
       "\n",
       "mpl.figure.prototype._key_event_extra = function(event, name) {\n",
       "    // Handle any extra behaviour associated with a key event\n",
       "}\n",
       "\n",
       "mpl.figure.prototype.key_event = function(event, name) {\n",
       "\n",
       "    // Prevent repeat events\n",
       "    if (name == 'key_press')\n",
       "    {\n",
       "        if (event.which === this._key)\n",
       "            return;\n",
       "        else\n",
       "            this._key = event.which;\n",
       "    }\n",
       "    if (name == 'key_release')\n",
       "        this._key = null;\n",
       "\n",
       "    var value = '';\n",
       "    if (event.ctrlKey && event.which != 17)\n",
       "        value += \"ctrl+\";\n",
       "    if (event.altKey && event.which != 18)\n",
       "        value += \"alt+\";\n",
       "    if (event.shiftKey && event.which != 16)\n",
       "        value += \"shift+\";\n",
       "\n",
       "    value += 'k';\n",
       "    value += event.which.toString();\n",
       "\n",
       "    this._key_event_extra(event, name);\n",
       "\n",
       "    this.send_message(name, {key: value,\n",
       "                             guiEvent: simpleKeys(event)});\n",
       "    return false;\n",
       "}\n",
       "\n",
       "mpl.figure.prototype.toolbar_button_onclick = function(name) {\n",
       "    if (name == 'download') {\n",
       "        this.handle_save(this, null);\n",
       "    } else {\n",
       "        this.send_message(\"toolbar_button\", {name: name});\n",
       "    }\n",
       "};\n",
       "\n",
       "mpl.figure.prototype.toolbar_button_onmouseover = function(tooltip) {\n",
       "    this.message.textContent = tooltip;\n",
       "};\n",
       "mpl.toolbar_items = [[\"Home\", \"Reset original view\", \"fa fa-home icon-home\", \"home\"], [\"Back\", \"Back to  previous view\", \"fa fa-arrow-left icon-arrow-left\", \"back\"], [\"Forward\", \"Forward to next view\", \"fa fa-arrow-right icon-arrow-right\", \"forward\"], [\"\", \"\", \"\", \"\"], [\"Pan\", \"Pan axes with left mouse, zoom with right\", \"fa fa-arrows icon-move\", \"pan\"], [\"Zoom\", \"Zoom to rectangle\", \"fa fa-square-o icon-check-empty\", \"zoom\"], [\"\", \"\", \"\", \"\"], [\"Download\", \"Download plot\", \"fa fa-floppy-o icon-save\", \"download\"]];\n",
       "\n",
       "mpl.extensions = [\"eps\", \"jpeg\", \"pdf\", \"png\", \"ps\", \"raw\", \"svg\", \"tif\"];\n",
       "\n",
       "mpl.default_extension = \"png\";var comm_websocket_adapter = function(comm) {\n",
       "    // Create a \"websocket\"-like object which calls the given IPython comm\n",
       "    // object with the appropriate methods. Currently this is a non binary\n",
       "    // socket, so there is still some room for performance tuning.\n",
       "    var ws = {};\n",
       "\n",
       "    ws.close = function() {\n",
       "        comm.close()\n",
       "    };\n",
       "    ws.send = function(m) {\n",
       "        //console.log('sending', m);\n",
       "        comm.send(m);\n",
       "    };\n",
       "    // Register the callback with on_msg.\n",
       "    comm.on_msg(function(msg) {\n",
       "        //console.log('receiving', msg['content']['data'], msg);\n",
       "        // Pass the mpl event to the overriden (by mpl) onmessage function.\n",
       "        ws.onmessage(msg['content']['data'])\n",
       "    });\n",
       "    return ws;\n",
       "}\n",
       "\n",
       "mpl.mpl_figure_comm = function(comm, msg) {\n",
       "    // This is the function which gets called when the mpl process\n",
       "    // starts-up an IPython Comm through the \"matplotlib\" channel.\n",
       "\n",
       "    var id = msg.content.data.id;\n",
       "    // Get hold of the div created by the display call when the Comm\n",
       "    // socket was opened in Python.\n",
       "    var element = $(\"#\" + id);\n",
       "    var ws_proxy = comm_websocket_adapter(comm)\n",
       "\n",
       "    function ondownload(figure, format) {\n",
       "        window.open(figure.imageObj.src);\n",
       "    }\n",
       "\n",
       "    var fig = new mpl.figure(id, ws_proxy,\n",
       "                           ondownload,\n",
       "                           element.get(0));\n",
       "\n",
       "    // Call onopen now - mpl needs it, as it is assuming we've passed it a real\n",
       "    // web socket which is closed, not our websocket->open comm proxy.\n",
       "    ws_proxy.onopen();\n",
       "\n",
       "    fig.parent_element = element.get(0);\n",
       "    fig.cell_info = mpl.find_output_cell(\"<div id='\" + id + \"'></div>\");\n",
       "    if (!fig.cell_info) {\n",
       "        console.error(\"Failed to find cell for figure\", id, fig);\n",
       "        return;\n",
       "    }\n",
       "\n",
       "    var output_index = fig.cell_info[2]\n",
       "    var cell = fig.cell_info[0];\n",
       "\n",
       "};\n",
       "\n",
       "mpl.figure.prototype.handle_close = function(fig, msg) {\n",
       "    var width = fig.canvas.width/mpl.ratio\n",
       "    fig.root.unbind('remove')\n",
       "\n",
       "    // Update the output cell to use the data from the current canvas.\n",
       "    fig.push_to_output();\n",
       "    var dataURL = fig.canvas.toDataURL();\n",
       "    // Re-enable the keyboard manager in IPython - without this line, in FF,\n",
       "    // the notebook keyboard shortcuts fail.\n",
       "    IPython.keyboard_manager.enable()\n",
       "    $(fig.parent_element).html('<img src=\"' + dataURL + '\" width=\"' + width + '\">');\n",
       "    fig.close_ws(fig, msg);\n",
       "}\n",
       "\n",
       "mpl.figure.prototype.close_ws = function(fig, msg){\n",
       "    fig.send_message('closing', msg);\n",
       "    // fig.ws.close()\n",
       "}\n",
       "\n",
       "mpl.figure.prototype.push_to_output = function(remove_interactive) {\n",
       "    // Turn the data on the canvas into data in the output cell.\n",
       "    var width = this.canvas.width/mpl.ratio\n",
       "    var dataURL = this.canvas.toDataURL();\n",
       "    this.cell_info[1]['text/html'] = '<img src=\"' + dataURL + '\" width=\"' + width + '\">';\n",
       "}\n",
       "\n",
       "mpl.figure.prototype.updated_canvas_event = function() {\n",
       "    // Tell IPython that the notebook contents must change.\n",
       "    IPython.notebook.set_dirty(true);\n",
       "    this.send_message(\"ack\", {});\n",
       "    var fig = this;\n",
       "    // Wait a second, then push the new image to the DOM so\n",
       "    // that it is saved nicely (might be nice to debounce this).\n",
       "    setTimeout(function () { fig.push_to_output() }, 1000);\n",
       "}\n",
       "\n",
       "mpl.figure.prototype._init_toolbar = function() {\n",
       "    var fig = this;\n",
       "\n",
       "    var nav_element = $('<div/>')\n",
       "    nav_element.attr('style', 'width: 100%');\n",
       "    this.root.append(nav_element);\n",
       "\n",
       "    // Define a callback function for later on.\n",
       "    function toolbar_event(event) {\n",
       "        return fig.toolbar_button_onclick(event['data']);\n",
       "    }\n",
       "    function toolbar_mouse_event(event) {\n",
       "        return fig.toolbar_button_onmouseover(event['data']);\n",
       "    }\n",
       "\n",
       "    for(var toolbar_ind in mpl.toolbar_items){\n",
       "        var name = mpl.toolbar_items[toolbar_ind][0];\n",
       "        var tooltip = mpl.toolbar_items[toolbar_ind][1];\n",
       "        var image = mpl.toolbar_items[toolbar_ind][2];\n",
       "        var method_name = mpl.toolbar_items[toolbar_ind][3];\n",
       "\n",
       "        if (!name) { continue; };\n",
       "\n",
       "        var button = $('<button class=\"btn btn-default\" href=\"#\" title=\"' + name + '\"><i class=\"fa ' + image + ' fa-lg\"></i></button>');\n",
       "        button.click(method_name, toolbar_event);\n",
       "        button.mouseover(tooltip, toolbar_mouse_event);\n",
       "        nav_element.append(button);\n",
       "    }\n",
       "\n",
       "    // Add the status bar.\n",
       "    var status_bar = $('<span class=\"mpl-message\" style=\"text-align:right; float: right;\"/>');\n",
       "    nav_element.append(status_bar);\n",
       "    this.message = status_bar[0];\n",
       "\n",
       "    // Add the close button to the window.\n",
       "    var buttongrp = $('<div class=\"btn-group inline pull-right\"></div>');\n",
       "    var button = $('<button class=\"btn btn-mini btn-primary\" href=\"#\" title=\"Stop Interaction\"><i class=\"fa fa-power-off icon-remove icon-large\"></i></button>');\n",
       "    button.click(function (evt) { fig.handle_close(fig, {}); } );\n",
       "    button.mouseover('Stop Interaction', toolbar_mouse_event);\n",
       "    buttongrp.append(button);\n",
       "    var titlebar = this.root.find($('.ui-dialog-titlebar'));\n",
       "    titlebar.prepend(buttongrp);\n",
       "}\n",
       "\n",
       "mpl.figure.prototype._root_extra_style = function(el){\n",
       "    var fig = this\n",
       "    el.on(\"remove\", function(){\n",
       "\tfig.close_ws(fig, {});\n",
       "    });\n",
       "}\n",
       "\n",
       "mpl.figure.prototype._canvas_extra_style = function(el){\n",
       "    // this is important to make the div 'focusable\n",
       "    el.attr('tabindex', 0)\n",
       "    // reach out to IPython and tell the keyboard manager to turn it's self\n",
       "    // off when our div gets focus\n",
       "\n",
       "    // location in version 3\n",
       "    if (IPython.notebook.keyboard_manager) {\n",
       "        IPython.notebook.keyboard_manager.register_events(el);\n",
       "    }\n",
       "    else {\n",
       "        // location in version 2\n",
       "        IPython.keyboard_manager.register_events(el);\n",
       "    }\n",
       "\n",
       "}\n",
       "\n",
       "mpl.figure.prototype._key_event_extra = function(event, name) {\n",
       "    var manager = IPython.notebook.keyboard_manager;\n",
       "    if (!manager)\n",
       "        manager = IPython.keyboard_manager;\n",
       "\n",
       "    // Check for shift+enter\n",
       "    if (event.shiftKey && event.which == 13) {\n",
       "        this.canvas_div.blur();\n",
       "        // select the cell after this one\n",
       "        var index = IPython.notebook.find_cell_index(this.cell_info[0]);\n",
       "        IPython.notebook.select(index + 1);\n",
       "    }\n",
       "}\n",
       "\n",
       "mpl.figure.prototype.handle_save = function(fig, msg) {\n",
       "    fig.ondownload(fig, null);\n",
       "}\n",
       "\n",
       "\n",
       "mpl.find_output_cell = function(html_output) {\n",
       "    // Return the cell and output element which can be found *uniquely* in the notebook.\n",
       "    // Note - this is a bit hacky, but it is done because the \"notebook_saving.Notebook\"\n",
       "    // IPython event is triggered only after the cells have been serialised, which for\n",
       "    // our purposes (turning an active figure into a static one), is too late.\n",
       "    var cells = IPython.notebook.get_cells();\n",
       "    var ncells = cells.length;\n",
       "    for (var i=0; i<ncells; i++) {\n",
       "        var cell = cells[i];\n",
       "        if (cell.cell_type === 'code'){\n",
       "            for (var j=0; j<cell.output_area.outputs.length; j++) {\n",
       "                var data = cell.output_area.outputs[j];\n",
       "                if (data.data) {\n",
       "                    // IPython >= 3 moved mimebundle to data attribute of output\n",
       "                    data = data.data;\n",
       "                }\n",
       "                if (data['text/html'] == html_output) {\n",
       "                    return [cell, data, j];\n",
       "                }\n",
       "            }\n",
       "        }\n",
       "    }\n",
       "}\n",
       "\n",
       "// Register the function which deals with the matplotlib target/channel.\n",
       "// The kernel may be null if the page has been refreshed.\n",
       "if (IPython.notebook.kernel != null) {\n",
       "    IPython.notebook.kernel.comm_manager.register_target('matplotlib', mpl.mpl_figure_comm);\n",
       "}\n"
      ],
      "text/plain": [
       "<IPython.core.display.Javascript object>"
      ]
     },
     "metadata": {},
     "output_type": "display_data"
    },
    {
     "data": {
      "text/html": [
       "<img src=\"data:image/png;base64,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\" width=\"900\">"
      ],
      "text/plain": [
       "<IPython.core.display.HTML object>"
      ]
     },
     "metadata": {},
     "output_type": "display_data"
    }
   ],
   "source": [
    "notebook.plot_layout.display()"
   ]
  },
  {
   "cell_type": "markdown",
   "metadata": {},
   "source": [
    "## Run Dynamics"
   ]
  },
  {
   "cell_type": "code",
   "execution_count": 8,
   "metadata": {},
   "outputs": [
    {
     "name": "stderr",
     "output_type": "stream",
     "text": [
      "Widget Javascript not detected.  It may not be installed or enabled properly.\n"
     ]
    },
    {
     "data": {
      "application/vnd.jupyter.widget-view+json": {
       "model_id": "108ea5192a414787a12610390894175e"
      }
     },
     "metadata": {},
     "output_type": "display_data"
    }
   ],
   "source": [
    "notebook.run_dynamics.display()"
   ]
  },
  {
   "cell_type": "markdown",
   "metadata": {},
   "source": [
    "## Plot Cell Profile"
   ]
  },
  {
   "cell_type": "code",
   "execution_count": 9,
   "metadata": {},
   "outputs": [
    {
     "name": "stderr",
     "output_type": "stream",
     "text": [
      "Widget Javascript not detected.  It may not be installed or enabled properly.\n"
     ]
    },
    {
     "data": {
      "application/vnd.jupyter.widget-view+json": {
       "model_id": "9e65e0e6823d4055ab4eeb1c2e74f575"
      }
     },
     "metadata": {},
     "output_type": "display_data"
    }
   ],
   "source": [
    "notebook.plot_cell_profile.display()"
   ]
  },
  {
   "cell_type": "markdown",
   "metadata": {},
   "source": [
    "## Plot Dynamics"
   ]
  },
  {
   "cell_type": "code",
   "execution_count": 10,
   "metadata": {},
   "outputs": [
    {
     "name": "stderr",
     "output_type": "stream",
     "text": [
      "Widget Javascript not detected.  It may not be installed or enabled properly.\n"
     ]
    },
    {
     "data": {
      "application/vnd.jupyter.widget-view+json": {
       "model_id": "11a109191ae94f36b28d92cbfd33e842"
      }
     },
     "metadata": {},
     "output_type": "display_data"
    }
   ],
   "source": [
    "notebook.plot_dynamics.display()"
   ]
  }
 ],
 "metadata": {
  "kernelspec": {
   "display_name": "Python 3",
   "language": "python",
   "name": "python3"
  },
  "language_info": {
   "codemirror_mode": {
    "name": "ipython",
    "version": 3
   },
   "file_extension": ".py",
   "mimetype": "text/x-python",
   "name": "python",
   "nbconvert_exporter": "python",
   "pygments_lexer": "ipython3",
   "version": "3.5.2+"
  },
  "widgets": {
   "state": {
    "3598eb7646394352ab73d6907bfa607d": {
     "views": [
      {
       "cell_index": 6
      }
     ]
    },
    "4118ded886f54c2eb0ca23145229c187": {
     "views": [
      {
       "cell_index": 10
      }
     ]
    },
    "8dfc65a8698340cbb702064232e2b908": {
     "views": [
      {
       "cell_index": 14
      }
     ]
    },
    "90d3134d143546638aa15b9d929a17b5": {
     "views": [
      {
       "cell_index": 16
      }
     ]
    },
    "bd2b7b131f324aba8d386ed46df23009": {
     "views": [
      {
       "cell_index": 8
      }
     ]
    },
    "c12b3fde939e49b08792c5cfa1558d2f": {
     "views": [
      {
       "cell_index": 12
      }
     ]
    },
    "dc4fac0bb3134c8ea22646980d8fc8a9": {
     "views": [
      {
       "cell_index": 18
      }
     ]
    },
    "f4663082efc347929023025c4e326e5d": {
     "views": [
      {
       "cell_index": 4
      }
     ]
    },
    "fcedbb95c6f940e28fc262dab1634ce5": {
     "views": [
      {
       "cell_index": 20
      }
     ]
    }
   },
   "version": "1.2.0"
  }
 },
 "nbformat": 4,
 "nbformat_minor": 1
}
