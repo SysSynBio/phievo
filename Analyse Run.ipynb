{
 "cells": [
  {
   "cell_type": "markdown",
   "metadata": {
    "deletable": true,
    "editable": true
   },
   "source": [
    "# Analyse Run #\n",
    "\n",
    "This is a template notebook to browse the results of a evolution simulation.\n",
    "\n",
    "Please _Restart & Run All_ to make shure you start with a clean notebook."
   ]
  },
  {
   "cell_type": "markdown",
   "metadata": {
    "deletable": true,
    "editable": true
   },
   "source": [
    "## Import required libraries"
   ]
  },
  {
   "cell_type": "code",
   "execution_count": 1,
   "metadata": {
    "collapsed": false,
    "deletable": true,
    "editable": true,
    "scrolled": true
   },
   "outputs": [],
   "source": [
    "%matplotlib notebook\n",
    "import matplotlib.pyplot as plt\n",
    "import numpy as np\n",
    "from  ipywidgets import widgets \n",
    "from ipywidgets import interact, interactive, fixed\n",
    "from IPython.display import display,HTML,clear_output\n",
    "import os \n",
    "import phievo.AnalysisTools as AT\n",
    "#HTML('''<script>code_show=true;function code_toggle() {if (code_show){$('div.input').hide();} else {$('div.input').show();} code_show = !code_show} $( document ).ready(code_toggle);</script><form action=\"javascript:code_toggle()\"><input type=\"submit\" value=\"Click here to toggle on/off the raw code.\"></form>''')"
   ]
  },
  {
   "cell_type": "markdown",
   "metadata": {
    "deletable": true,
    "editable": true
   },
   "source": [
    "## Enter the run information"
   ]
  },
  {
   "cell_type": "code",
   "execution_count": 2,
   "metadata": {
    "collapsed": true,
    "deletable": true,
    "editable": true
   },
   "outputs": [],
   "source": [
    "## Important variables\n",
    "run = None ## Directory of the evolution to analyse\n",
    "seed = None ## Seed of the run\n",
    "net = None ## Generation for one evolution\n",
    "initial = None\n",
    "data = None ##\n",
    "buffer = None ## Input to use for the dynamics\n",
    "inouts = None ## Nb of different input to use to test the dynamics"
   ]
  },
  {
   "cell_type": "code",
   "execution_count": 3,
   "metadata": {
    "collapsed": false,
    "deletable": true,
    "editable": true
   },
   "outputs": [],
   "source": [
    "widget_run = widgets.Text(value='',placeholder='Name of the run directory',description='Directory:',disabled=False)\n",
    "widget_seed = widgets.Dropdown(options={\"None\":None},value=None,description='Seed:',disabled=True)\n",
    "widget_loadDir = widgets.Button(description=\"Load Run\",disabled=True)\n",
    "widget_gen = widgets.IntSlider(value = 0,min=0,max=0,description = 'Gen:')\n",
    "\n",
    "choices = [\"fitness\",\"generation\",\"n_interactions\",\"n_species\"]\n",
    "widget_Xobs = widgets.Dropdown(options=choices,value=\"generation\",description='x-axis:',disabled=True)\n",
    "widget_Yobs = widgets.Dropdown(options=choices,value=\"fitness\",description='y-axis:',disabled=True)\n",
    "widget_replot_observable = widgets.Button(description=\"Plot\",disabled=True)\n",
    "widget_replot_fitness = widgets.Button(description=\"Plot fitness\",disabled=True)\n",
    "#\n",
    "foundDirFlag = False\n",
    "foundSeedFlag = False\n",
    "foundGen = False\n",
    "foundFile_widget = widgets.HTML(\"\")\n",
    "foundSeed_widget = widgets.HTML(\"\")\n",
    "maxSeedDict = {}\n",
    "found_str = \"<p style=\\\"color:#31B404;font-size: 30px;\\\">✔</p>\"\n",
    "notfound_str = \"<p style=\\\"color:#DF3A01;font-size: 30px;\\\">✘</p>\"\n",
    "\n",
    "def inspect_run(path):\n",
    "    \"\"\"\n",
    "    Test if the dir name exists\n",
    "    \n",
    "    Args:\n",
    "        path (str): path of the directory\n",
    "    \"\"\"\n",
    "    global foundDirFlag\n",
    "    ## Search for the Simulation directory\n",
    "    if os.path.isdir(path):\n",
    "        foundSeed_widget.value = \"\"\n",
    "        foundDirFlag = True\n",
    "        foundFile_widget.value = found_str\n",
    "        widget_loadDir.disabled=False\n",
    "    else:\n",
    "        foundDirFlag = False\n",
    "        foundFile_widget.value = notfound_str\n",
    "        widget_loadDir.disabled=True\n",
    "\n",
    "def onLoadRunClicked(button):\n",
    "    widget_loadDir.button_style = \"success\"\n",
    "    widget_loadDir.disabled=True\n",
    "    global run\n",
    "    run = AT.Simulation(widget_run.value)\n",
    "    widget_seed.options = {\"Seed%d\"%i:i for i,seed in run.seeds.items()}\n",
    "    widget_seed.value = widget_seed.options[list(widget_seed.options.keys())[0]]\n",
    "    widget_seed.disabled = False\n",
    "    \n",
    "widget_loadDir.on_click(onLoadRunClicked)\n",
    "interactive(inspect_run,path=widget_run);\n",
    "main_options = widgets.VBox([widgets.HBox([widget_run,foundFile_widget]),widget_loadDir])\n",
    "display(main_options)"
   ]
  },
  {
   "cell_type": "code",
   "execution_count": null,
   "metadata": {
    "collapsed": true
   },
   "outputs": [],
   "source": []
  },
  {
   "cell_type": "markdown",
   "metadata": {
    "deletable": true,
    "editable": true
   },
   "source": [
    "## Select the seed to study"
   ]
  },
  {
   "cell_type": "code",
   "execution_count": 4,
   "metadata": {
    "collapsed": false,
    "deletable": true,
    "editable": true
   },
   "outputs": [],
   "source": [
    "\n",
    "def set_seed(from_selector):\n",
    "    global seed\n",
    "    seed = from_selector\n",
    "    widget_gen.max = len(run.seeds[seed].generations)-1\n",
    "    \n",
    "    widget_Xobs.disabled = False\n",
    "    widget_Yobs.disabled = False\n",
    "    widget_replot_observable.disabled = False\n",
    "    if run.inits.prmt[\"pareto\"]:\n",
    "        widget_replot_fitness.disabled = False\n",
    "    else:\n",
    "        widget_replot_fitness.disabled = True\n",
    "interactive( set_seed,from_selector=widget_seed);\n",
    "display(widget_seed)"
   ]
  },
  {
   "cell_type": "markdown",
   "metadata": {
    "deletable": true,
    "editable": true
   },
   "source": [
    "## Plot observable"
   ]
  },
  {
   "cell_type": "code",
   "execution_count": 5,
   "metadata": {
    "collapsed": false,
    "deletable": true,
    "editable": true
   },
   "outputs": [],
   "source": [
    "\n",
    "def replot_observable(b):\n",
    "    plt.close()\n",
    "    clear_output()\n",
    "    run.custom_plot(seed,widget_Xobs.value,widget_Yobs.value)\n",
    "    \n",
    "def replot_fitness(b):\n",
    "    plt.close()\n",
    "    clear_output()\n",
    "    run.show_fitness(seed)\n",
    "    \n",
    "plot_observable_options = widgets.VBox([widgets.HBox([widget_Xobs,widget_Yobs]),widgets.HBox([widget_replot_observable,widget_replot_fitness])])\n",
    "widget_replot_fitness.on_click(replot_fitness)\n",
    "widget_replot_observable.on_click(replot_observable)\n",
    "\n",
    "display(plot_observable_options)"
   ]
  },
  {
   "cell_type": "markdown",
   "metadata": {
    "deletable": true,
    "editable": true
   },
   "source": [
    "## Look at one generation"
   ]
  },
  {
   "cell_type": "code",
   "execution_count": 6,
   "metadata": {
    "collapsed": false,
    "deletable": true,
    "editable": true,
    "scrolled": true
   },
   "outputs": [],
   "source": [
    "widget_selectCell = widgets.IntSlider(value = 0,min=0,max=0,description = 'Cell:')\n",
    "button_plotLayout = widgets.Button(description=\"Plot network layout\",disabled=True)\n",
    "widget_selectTimePoint = widgets.IntSlider(value = 0,min=0,max=0,description = 'Time:')\n",
    "def select_network(gen_index):  \n",
    "    if run is not None and seed is not None:\n",
    "        global net\n",
    "        net = run.get_best_net(seed,gen_index)\n",
    "        widget_selectCell.max = run.inits.prmt[\"ncelltot\"]-1\n",
    "        widget_selectTimePoint.max = run.inits.prmt[\"nstep\"]-1\n",
    "        button_plotLayout.disabled = False\n",
    "interactive(select_network,gen_index=widget_gen)\n",
    "display(widget_gen)"
   ]
  },
  {
   "cell_type": "code",
   "execution_count": 7,
   "metadata": {
    "collapsed": false,
    "deletable": true,
    "editable": true
   },
   "outputs": [],
   "source": [
    "def listen_plotLayout(b):\n",
    "    plt.close()\n",
    "    clear_output()\n",
    "    net.draw()\n",
    "button_plotLayout.on_click(listen_plotLayout)\n",
    "display(button_plotLayout)"
   ]
  },
  {
   "cell_type": "markdown",
   "metadata": {
    "deletable": true,
    "editable": true
   },
   "source": [
    "## Generation's dynamics"
   ]
  },
  {
   "cell_type": "code",
   "execution_count": 8,
   "metadata": {
    "collapsed": false,
    "deletable": true,
    "editable": true
   },
   "outputs": [],
   "source": [
    "widget_nputs = widgets.IntText(value=1,description='N :',disabled=False)\n",
    "widget_plotInput = widgets.IntSlider(value = 0,min=0,max=0,description = 'Input:')\n",
    "\n",
    "button_launchRun = widgets.Button(description=\"Run dynamics\")\n",
    "\n",
    "def generate_inputs(ntrials):\n",
    "    widget_plotInput.max = ntrials\n",
    "    global data\n",
    "    run.run_dynamics(net=net,erase_buffer=False,trial=widget_nputs.value)\n",
    "    widget_plotInput.max = widget_nputs.value-1\n",
    "def listen_launchRun(b):\n",
    "    generate_inputs(widget_nputs.value)\n",
    "button_launchRun.on_click(listen_launchRun)\n",
    "widgets.HBox([widget_nputs,button_launchRun])"
   ]
  },
  {
   "cell_type": "markdown",
   "metadata": {
    "deletable": true,
    "editable": true
   },
   "source": [
    "## Select initiation number "
   ]
  },
  {
   "cell_type": "code",
   "execution_count": 9,
   "metadata": {
    "collapsed": false,
    "deletable": true,
    "editable": true
   },
   "outputs": [],
   "source": [
    "def change_input(val):\n",
    "    global initial \n",
    "    initial = val \n",
    "interactive(change_input,val=widget_plotInput)\n"
   ]
  },
  {
   "cell_type": "markdown",
   "metadata": {
    "deletable": true,
    "editable": true
   },
   "source": [
    "## Plot Dynamics "
   ]
  },
  {
   "cell_type": "code",
   "execution_count": 10,
   "metadata": {
    "collapsed": false,
    "deletable": true,
    "editable": true
   },
   "outputs": [],
   "source": [
    "button_plotdynamcis = widgets.Button(description=\"Plot dynamics\")\n",
    "def plot_dynamics(signal):\n",
    "    plt.close()\n",
    "    clear_output()\n",
    "    run.Plot_Data(initial,cell=widget_selectCell.value)\n",
    "button_plotdynamcis.on_click(plot_dynamics)\n",
    "#display(widgets.VBox([widgets.HBox([widget_run,foundFile_widget]),widget_loadDir]))\n",
    "display(widgets.VBox([widgets.HBox([widget_selectCell,button_plotdynamcis])]))"
   ]
  },
  {
   "cell_type": "markdown",
   "metadata": {
    "collapsed": true,
    "deletable": true,
    "editable": true
   },
   "source": [
    "## Cell profile"
   ]
  },
  {
   "cell_type": "code",
   "execution_count": 11,
   "metadata": {
    "collapsed": false,
    "deletable": true,
    "editable": true
   },
   "outputs": [],
   "source": [
    "button_plotprofile = widgets.Button(description=\"Plot Profile\")\n",
    "def plot_profile(signal):\n",
    "    plt.close()\n",
    "    clear_output()\n",
    "    run.Plot_Profile(trial_index=widget_plotInput.value,time=widget_selectTimePoint.value)\n",
    "button_plotprofile.on_click(plot_profile)\n",
    "display(widgets.VBox([widgets.HBox([widget_selectTimePoint,button_plotprofile])]))"
   ]
  },
  {
   "cell_type": "code",
   "execution_count": null,
   "metadata": {
    "collapsed": true,
    "deletable": true,
    "editable": true
   },
   "outputs": [],
   "source": []
  }
 ],
 "metadata": {
  "kernelspec": {
   "display_name": "Python 3",
   "language": "python",
   "name": "python3"
  },
  "language_info": {
   "codemirror_mode": {
    "name": "ipython",
    "version": 3
   },
   "file_extension": ".py",
   "mimetype": "text/x-python",
   "name": "python",
   "nbconvert_exporter": "python",
   "pygments_lexer": "ipython3",
   "version": "3.5.2"
  },
  "widgets": {
   "state": {
    "0116559f03d54e618818d015c14a9465": {
     "views": [
      {
       "cell_index": 10
      }
     ]
    },
    "17e8634acdef4261aef417a654005531": {
     "views": [
      {
       "cell_index": 17
      }
     ]
    },
    "33a346ef3c2b4dedb30e271e6d2c8416": {
     "views": [
      {
       "cell_index": 8
      }
     ]
    },
    "46c172a18c0d40aea7491d71c3a03362": {
     "views": [
      {
       "cell_index": 12
      }
     ]
    },
    "6e59cfd4c3a24737aa86b272841eabf5": {
     "views": [
      {
       "cell_index": 5
      }
     ]
    },
    "70ef7cffaa464c6393cf8fd131c6a622": {
     "views": [
      {
       "cell_index": 19
      }
     ]
    },
    "7f8f39e4ddfe4496a62e22b562fea9b8": {
     "views": [
      {
       "cell_index": 13
      }
     ]
    },
    "a13232ef97a2493dbde83443783c1df4": {
     "views": [
      {
       "cell_index": 21
      }
     ]
    },
    "eaf1c4a530364738ba1e347e925dd3d9": {
     "views": [
      {
       "cell_index": 15
      }
     ]
    }
   },
   "version": "1.2.0"
  }
 },
 "nbformat": 4,
 "nbformat_minor": 1
}
