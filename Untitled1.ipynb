{
 "cells": [
  {
   "cell_type": "code",
   "execution_count": 1,
   "metadata": {
    "hideCode": false,
    "hidePrompt": false
   },
   "outputs": [],
   "source": [
    "import ipywidgets as w\n",
    "from IPython.display import display\n"
   ]
  },
  {
   "cell_type": "code",
   "execution_count": 2,
   "metadata": {
    "hideCode": false,
    "hidePrompt": false
   },
   "outputs": [],
   "source": [
    "import random\n",
    "from phievo.Networks import mutation"
   ]
  },
  {
   "cell_type": "code",
   "execution_count": 296,
   "metadata": {
    "hideCode": false,
    "hidePrompt": false
   },
   "outputs": [],
   "source": [
    "tag_choices = {\n",
    "    \"Species\":(True,),\n",
    "    \"Degradable\":(True,\"rate\",\"Float\",0.5,\"Species.degradation\"),\n",
    "    \"TF\":(True,\"activity\",\"Int\",1),\n",
    "    \"Kinase\":(False,),\n",
    "    \"Phosphatase\":(False,),\n",
    "    \"Output\":(False,\"index\",\"Int\"),\n",
    "    \"Input\":(False,\"index\",\"Int\"),\n",
    "    \"Complexable\":(False,),\n",
    "    \"Complex\":(False,),\n",
    "    \"Phosphorylable\":(False,),\n",
    "    \"Diffusible\":(False,\"rate\",\"Float\",0,\"Species.diffusion\")\n",
    "}\n",
    "def tags_to_str(tags):\n",
    "    array = [\"[\\\"{}\\\",{}]\".format(*tt) if len(tt)==2 else \"[\\\"{}\\\"]\".format(*tt) for tt in tags]\n",
    "    \n",
    "    return \"[\"+\",\".join(array)+\"]\"\n",
    "class add_tag_widget:\n",
    "    def __init__(self,tag,state=False,param=None,ptype=None,defaultvalue=0,draw_random=\"\"):\n",
    "        self.tag = tag\n",
    "        self.tag_w = w.HTML(description=\" \",value=\"<p><b>{}</b></p>\".format(tag),layout=w.Layout(width=\"15%\", height=\"40px\"))\n",
    "        self.is_on = w.Checkbox(value=bool(state),description=\" \",layout=w.Layout(width=\"15%\", height=\"40px\"))\n",
    "        self.is_on_d = self.is_on.value\n",
    "        \n",
    "        if param:\n",
    "            self.custom_p = w.Checkbox(description=\"custom parameters\",value=False,disabled=not state)\n",
    "            self.param = getattr(w,\"Bounded{}Text\".format(ptype))(value=defaultvalue,description=param,disabled=not state or not self.custom_p.value,layout=w.Layout(width=\"20%\", height=\"40px\"))\n",
    "            \n",
    "            if tag==\"TF\":\n",
    "                self.param = w.Dropdown(options={\"repressor by default\":0,\"activator by default\":1},value=1,disabled=not self.is_on.value)\n",
    "                self.custom_p.value = True\n",
    "            \n",
    "            def activate(b):\n",
    "                if self.tag!=\"TF\":\n",
    "                    self.custom_p.disabled = not self.is_on.value\n",
    "                self.param.disabled = not self.is_on.value or not self.custom_p.value\n",
    "                \n",
    "            \n",
    "            w.interactive(activate,b=self.is_on)\n",
    "            w.interactive(activate,b=self.custom_p)\n",
    "            self.param_d = self.param.value\n",
    "        self.draw_random = 'mutation.sample_dictionary_ranges(\\\"{}\\\",net.Random)'.format(draw_random)\n",
    "    \n",
    "    def get_widget(self):\n",
    "        inhbox = [self.is_on,self.tag_w]\n",
    "        if hasattr(self,\"param\"):\n",
    "            inhbox.append(self.param)\n",
    "            if self.tag!=\"TF\":\n",
    "                inhbox.append(self.custom_p)\n",
    "        return w.HBox(inhbox)\n",
    "    \n",
    "    def get_tag(self):\n",
    "        if self.is_on.value:\n",
    "            toreturn = [self.tag]\n",
    "            if hasattr(self,\"param\"):\n",
    "                if self.custom_p.value:\n",
    "                    pval = self.param.value\n",
    "                else:\n",
    "                    if self.tag==\"Input\":\n",
    "                        pval = \"{ind_i}\"\n",
    "                    elif self.tag==\"Output\":\n",
    "                        pval = \"{ind_o}\"\n",
    "                    else:\n",
    "                        pval = self.draw_random\n",
    "                toreturn.append(pval)\n",
    "        else:\n",
    "            toreturn = None\n",
    "        return toreturn\n",
    "    def clear(self):\n",
    "        self.is_on.value = self.is_on_d\n",
    "        if hasattr(self,\"param\"):\n",
    "            #self.param.value = self.param_d\n",
    "            if self.tag!=\"TF\":\n",
    "                self.custom_p.value=False\n",
    "                self.param.disabled = True\n",
    "class add_species_widget:\n",
    "    def __init__(self):\n",
    "        #self.select_ = \n",
    "        self.isGene = w.Checkbox(value=True,description=\"gene\",layout=w.Layout(width=\"15%\", height=\"40px\"))\n",
    "        self.tags = {key:add_tag_widget(key,*val) for key,val in tag_choices.items()}\n",
    "        self.tags[\"Input\"].is_on.disabled = True\n",
    "        self.add_button = w.Button(description=\"Add\",button_style=\"info\")\n",
    "        self.israndom = w.Checkbox(value=True,description=\" \")\n",
    "        \n",
    "        self.g_basal= w.BoundedFloatText(description=\"basal:\",value=0,step=0.001,layout=w.Layout(width=\"15%\", height=\"40px\"),disabled=True)\n",
    "        self.g_rate = w.BoundedFloatText(description=\"rate:\",value=1,step=0.001,layout=w.Layout(width=\"15%\", height=\"40px\"),disabled=True)\n",
    "        self.g_delay = w.BoundedFloatText(description=\"delay:\",value=0,step=0.001,layout=w.Layout(width=\"15%\", height=\"40px\"),disabled=True)\n",
    "        self.g_custom = w.Checkbox(description=\"Custom parameters\",value=False,disabled=False)\n",
    "        \n",
    "        self.message =w.HTML(\"\")\n",
    "        def input_not_gene1(val):\n",
    "            self.isGene.disabled = self.tags[\"Input\"].is_on.value\n",
    "            #self.tags[\"Input\"].param.disabled = not val\n",
    "        def input_not_gene2(val):\n",
    "            self.tags[\"Input\"].is_on.disabled = self.isGene.value \n",
    "            self.g_basal.disabled = not self.isGene.value or not self.g_custom.value\n",
    "            self.g_delay.disabled = not self.isGene.value or not self.g_custom.value\n",
    "            self.g_rate.disabled = not self.isGene.value or not self.g_custom.value\n",
    "            self.g_custom.disabled = not self.isGene.value \n",
    "        w.interactive(input_not_gene1,val=self.tags[\"Input\"].is_on)\n",
    "        w.interactive(input_not_gene2,val=self.isGene)\n",
    "        w.interactive(input_not_gene2,val=self.g_custom)\n",
    "                        \n",
    "    def get_widget(self):\n",
    "        return w.VBox(\n",
    "                      [w.HTML(value=\"<h3>gene settings:</h3><p>If \\\"gene\\\" is selected, the program also adds a TModule and a CorePromoter and the species is regulated.</p><p>The parameters that are not customized will be drawn randomly in the space of the possible values.</p><p>An input species cannot be a gene.</p>\")]\n",
    "                      +[w.HBox([self.isGene,self.g_rate,self.g_basal,self.g_delay,self.g_custom])]\\\n",
    "                      +[w.HTML(value=\"<h3>add tags:</h3><p>The parameters that are not customized will be drawn randomly in the space of the possible values or will take the next available index (for Inputs and Outputs).</p>\")]\\\n",
    "                      +[self.tags[key].get_widget() for key in self.tags.keys()]\\\n",
    "                      +[w.HBox([self.add_button,self.message])])\n",
    "    def clear(self,b):\n",
    "        self.add_button.description = \"Add\"\n",
    "        self.add_button.button_style = \"info\"\n",
    "        self.isGene.value = True\n",
    "        self.g_rate.disabled = True\n",
    "        self.g_basal.disabled = True\n",
    "        self.g_delay.disabled = True\n",
    "        self.g_custom.value = False\n",
    "        self.g_custom.disabled = False\n",
    "        for key in self.tags.keys():\n",
    "            self.tags[key].clear()\n",
    "            \n",
    "    def get_command(self):\n",
    "        tags = [tag for tag in [self.tags[key].get_tag() for key in self.tags.keys()] if tag]\n",
    "        \n",
    "        param = \"\\tparam = {}\".format(tags_to_str(tags))\n",
    "        if self.isGene.value:            \n",
    "            function = \n",
    "        function = \"\\tnet.new_Species(param)\" if self.isGene.value else \"\\tnet.new_Species(param)\"\n",
    "        return [param,function],tags"
   ]
  },
  {
   "cell_type": "code",
   "execution_count": 297,
   "metadata": {
    "hideCode": false,
    "hidePrompt": false
   },
   "outputs": [
    {
     "data": {
      "application/vnd.jupyter.widget-view+json": {
       "model_id": "08f58649434e4e88a720bbb1aa661e23",
       "version_major": 2,
       "version_minor": 0
      },
      "text/plain": [
       "A Jupyter Widget"
      ]
     },
     "metadata": {},
     "output_type": "display_data"
    }
   ],
   "source": [
    "aa = add_species_widget()\n",
    "aa.get_widget()"
   ]
  },
  {
   "cell_type": "code",
   "execution_count": 300,
   "metadata": {
    "hideCode": false,
    "hidePrompt": false
   },
   "outputs": [
    {
     "name": "stdout",
     "output_type": "stream",
     "text": [
      "\tparam = [[\"Species\"],[\"Degradable\",mutation.sample_dictionary_ranges(\"Species.degradation\",net.Random)],[\"TF\",1]]\n",
      "\tnet.new_Species(param)\n"
     ]
    }
   ],
   "source": [
    "print(\"\\n\".join(aa.get_command()[0]))"
   ]
  },
  {
   "cell_type": "code",
   "execution_count": 280,
   "metadata": {
    "hideCode": false,
    "hidePrompt": false
   },
   "outputs": [],
   "source": [
    "tt = aa.get_command("
   ]
  },
  {
   "cell_type": "code",
   "execution_count": 287,
   "metadata": {},
   "outputs": [
    {
     "ename": "IndexError",
     "evalue": "tuple index out of range",
     "output_type": "error",
     "traceback": [
      "\u001b[0;31m---------------------------------------------------------------------------\u001b[0m",
      "\u001b[0;31mIndexError\u001b[0m                                Traceback (most recent call last)",
      "\u001b[0;32m<ipython-input-287-bc8f5fe8dde7>\u001b[0m in \u001b[0;36m<module>\u001b[0;34m()\u001b[0m\n\u001b[0;32m----> 1\u001b[0;31m \u001b[0;34m\"[\\\"{}\\\",{}]\"\u001b[0m\u001b[0;34m.\u001b[0m\u001b[0mformat\u001b[0m\u001b[0;34m(\u001b[0m\u001b[0;34m*\u001b[0m\u001b[0mtt\u001b[0m\u001b[0;34m[\u001b[0m\u001b[0;36m0\u001b[0m\u001b[0;34m]\u001b[0m\u001b[0;34m)\u001b[0m\u001b[0;34m\u001b[0m\u001b[0m\n\u001b[0m",
      "\u001b[0;31mIndexError\u001b[0m: tuple index out of range"
     ]
    }
   ],
   "source": [
    "\"[\\\"{}\\\",{}]\".format(*tt[0])"
   ]
  },
  {
   "cell_type": "code",
   "execution_count": 294,
   "metadata": {},
   "outputs": [],
   "source": []
  },
  {
   "cell_type": "code",
   "execution_count": 295,
   "metadata": {},
   "outputs": [
    {
     "data": {
      "text/plain": [
       "'[[\"Species\"],[\"Degradable\",mutation.sample_dictionary_ranges(\"Species.degradation\",net.Random)],[\"TF\",1]]'"
      ]
     },
     "execution_count": 295,
     "metadata": {},
     "output_type": "execute_result"
    }
   ],
   "source": [
    "tags_to_str(tt)"
   ]
  },
  {
   "cell_type": "code",
   "execution_count": null,
   "metadata": {},
   "outputs": [],
   "source": []
  }
 ],
 "metadata": {
  "hide_code_all_hidden": false,
  "kernelspec": {
   "display_name": "Python 3",
   "language": "python",
   "name": "python3"
  },
  "language_info": {
   "codemirror_mode": {
    "name": "ipython",
    "version": 3
   },
   "file_extension": ".py",
   "mimetype": "text/x-python",
   "name": "python",
   "nbconvert_exporter": "python",
   "pygments_lexer": "ipython3",
   "version": "3.6.2"
  }
 },
 "nbformat": 4,
 "nbformat_minor": 2
}
