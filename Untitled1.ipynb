{
 "cells": [
  {
   "cell_type": "code",
   "execution_count": 1,
   "metadata": {
    "hideCode": false,
    "hidePrompt": false
   },
   "outputs": [],
   "source": [
    "import ipywidgets as w\n",
    "from IPython.display import display"
   ]
  },
  {
   "cell_type": "code",
   "execution_count": 2,
   "metadata": {
    "hideCode": false,
    "hidePrompt": false
   },
   "outputs": [],
   "source": [
    "import phievo.ConfigurationTools.initnetwork as inet"
   ]
  },
  {
   "cell_type": "code",
   "execution_count": 3,
   "metadata": {
    "hideCode": false,
    "hidePrompt": false,
    "scrolled": false
   },
   "outputs": [
    {
     "data": {
      "application/vnd.jupyter.widget-view+json": {
       "model_id": "dc0c734c06534f0cbe8f7a0064c8bd48",
       "version_major": 2,
       "version_minor": 0
      },
      "text/html": [
       "<p>Failed to display Jupyter Widget of type <code>VBox</code>.</p>\n",
       "<p>\n",
       "  If you're reading this message in the Jupyter Notebook or JupyterLab Notebook, it may mean\n",
       "  that the widgets JavaScript is still loading. If this message persists, it\n",
       "  likely means that the widgets JavaScript library is either not installed or\n",
       "  not enabled. See the <a href=\"https://ipywidgets.readthedocs.io/en/stable/user_install.html\">Jupyter\n",
       "  Widgets Documentation</a> for setup instructions.\n",
       "</p>\n",
       "<p>\n",
       "  If you're reading this message in another frontend (for example, a static\n",
       "  rendering on GitHub or <a href=\"https://nbviewer.jupyter.org/\">NBViewer</a>),\n",
       "  it may mean that your frontend doesn't currently support widgets.\n",
       "</p>\n"
      ],
      "text/plain": [
       "VBox(children=(HTML(value='<h3>gene settings:</h3><p>If \"gene\" is selected, the program also adds a TModule and a CorePromoter and the species is regulated.</p><p>The parameters that are not customized will be drawn randomly in the space of the possible values.</p><p>An input species cannot be a gene.</p>'), HBox(children=(Checkbox(value=True, description='gene', layout=Layout(height='40px', width='15%')), BoundedFloatText(value=1.0, description='rate:', disabled=True, layout=Layout(height='40px', width='15%'), step=0.001), BoundedFloatText(value=0.0, description='basal:', disabled=True, layout=Layout(height='40px', width='15%'), step=0.001), BoundedFloatText(value=0.0, description='delay:', disabled=True, layout=Layout(height='40px', width='15%'), step=0.001), Checkbox(value=False, description='Custom parameters'))), HTML(value='<h3>add tags:</h3><p>The parameters that are not customized will be drawn randomly in the space of the possible values or will take the next available index (for Inputs and Outputs).</p>'), HBox(children=(Checkbox(value=True, description=' ', layout=Layout(height='40px', width='15%')), HTML(value='<p><b>Species</b></p>', description=' ', layout=Layout(height='40px', width='15%')))), HBox(children=(Checkbox(value=True, description=' ', layout=Layout(height='40px', width='15%')), HTML(value='<p><b>Degradable</b></p>', description=' ', layout=Layout(height='40px', width='15%')), BoundedFloatText(value=0.5, description='rate', disabled=True, layout=Layout(height='40px', width='20%')), Checkbox(value=False, description='custom parameters'))), HBox(children=(Checkbox(value=True, description=' ', layout=Layout(height='40px', width='15%')), HTML(value='<p><b>TF</b></p>', description=' ', layout=Layout(height='40px', width='15%')), Dropdown(index=1, options={'repressor by default': 0, 'activator by default': 1}, value=1))), HBox(children=(Checkbox(value=False, description=' ', layout=Layout(height='40px', width='15%')), HTML(value='<p><b>Kinase</b></p>', description=' ', layout=Layout(height='40px', width='15%')))), HBox(children=(Checkbox(value=False, description=' ', layout=Layout(height='40px', width='15%')), HTML(value='<p><b>Phosphatase</b></p>', description=' ', layout=Layout(height='40px', width='15%')))), HBox(children=(Checkbox(value=False, description=' ', layout=Layout(height='40px', width='15%')), HTML(value='<p><b>Output</b></p>', description=' ', layout=Layout(height='40px', width='15%')), BoundedIntText(value=0, description='index', disabled=True, layout=Layout(height='40px', width='20%')), Checkbox(value=False, description='custom parameters', disabled=True))), HBox(children=(Checkbox(value=False, description=' ', disabled=True, layout=Layout(height='40px', width='15%')), HTML(value='<p><b>Input</b></p>', description=' ', layout=Layout(height='40px', width='15%')), BoundedIntText(value=0, description='index', disabled=True, layout=Layout(height='40px', width='20%')), Checkbox(value=False, description='custom parameters', disabled=True))), HBox(children=(Checkbox(value=False, description=' ', layout=Layout(height='40px', width='15%')), HTML(value='<p><b>Complexable</b></p>', description=' ', layout=Layout(height='40px', width='15%')))), HBox(children=(Checkbox(value=False, description=' ', layout=Layout(height='40px', width='15%')), HTML(value='<p><b>Complex</b></p>', description=' ', layout=Layout(height='40px', width='15%')))), HBox(children=(Checkbox(value=False, description=' ', layout=Layout(height='40px', width='15%')), HTML(value='<p><b>Phosphorylable</b></p>', description=' ', layout=Layout(height='40px', width='15%')))), HBox(children=(Checkbox(value=False, description=' ', layout=Layout(height='40px', width='15%')), HTML(value='<p><b>Diffusible</b></p>', description=' ', layout=Layout(height='40px', width='15%')), BoundedFloatText(value=0.0, description='rate', disabled=True, layout=Layout(height='40px', width='20%')), Checkbox(value=False, description='custom parameters', disabled=True))), HBox(children=(Button(button_style='info', description='Add', style=ButtonStyle()), HTML(value='')))))"
      ]
     },
     "metadata": {},
     "output_type": "display_data"
    }
   ],
   "source": [
    "aa = inet.add_species_widget()\n",
    "aa.get_widget()"
   ]
  },
  {
   "cell_type": "code",
   "execution_count": 12,
   "metadata": {
    "hideCode": false,
    "hidePrompt": false
   },
   "outputs": [],
   "source": [
    "class init_network_widget:\n",
    "    def __init__(self,infos=\"\"):\n",
    "        self.infos = w.HTML(value=infos)\n",
    "        self.add_species_w = inet.add_species_widget()\n",
    "        \n",
    "        self.clear()\n",
    "    def clear(self):\n",
    "        self.inputs = []\n",
    "        self.outputs = []\n",
    "        self.species = []\n",
    "        \n",
    "    def self.add_species(self,button):\n",
    "        code,data = self.add_species_w.get_command()\n",
    "        def \n",
    "    def get_widget(self):\n",
    "        self.accordion = w.Accordion(children=[self.add_species_w.get_widget()])\n",
    "        self.accordion.set_title(0, 'Add Species')\n",
    "        return self.accordion"
   ]
  },
  {
   "cell_type": "code",
   "execution_count": 13,
   "metadata": {},
   "outputs": [
    {
     "data": {
      "application/vnd.jupyter.widget-view+json": {
       "model_id": "d5ad465aba4447a5bfa5476161d7a16e",
       "version_major": 2,
       "version_minor": 0
      },
      "text/html": [
       "<p>Failed to display Jupyter Widget of type <code>Accordion</code>.</p>\n",
       "<p>\n",
       "  If you're reading this message in the Jupyter Notebook or JupyterLab Notebook, it may mean\n",
       "  that the widgets JavaScript is still loading. If this message persists, it\n",
       "  likely means that the widgets JavaScript library is either not installed or\n",
       "  not enabled. See the <a href=\"https://ipywidgets.readthedocs.io/en/stable/user_install.html\">Jupyter\n",
       "  Widgets Documentation</a> for setup instructions.\n",
       "</p>\n",
       "<p>\n",
       "  If you're reading this message in another frontend (for example, a static\n",
       "  rendering on GitHub or <a href=\"https://nbviewer.jupyter.org/\">NBViewer</a>),\n",
       "  it may mean that your frontend doesn't currently support widgets.\n",
       "</p>\n"
      ],
      "text/plain": [
       "Accordion(children=(VBox(children=(HTML(value='<h3>gene settings:</h3><p>If \"gene\" is selected, the program also adds a TModule and a CorePromoter and the species is regulated.</p><p>The parameters that are not customized will be drawn randomly in the space of the possible values.</p><p>An input species cannot be a gene.</p>'), HBox(children=(Checkbox(value=True, description='gene', layout=Layout(height='40px', width='15%')), BoundedFloatText(value=1.0, description='rate:', disabled=True, layout=Layout(height='40px', width='15%'), step=0.001), BoundedFloatText(value=0.0, description='basal:', disabled=True, layout=Layout(height='40px', width='15%'), step=0.001), BoundedFloatText(value=0.0, description='delay:', disabled=True, layout=Layout(height='40px', width='15%'), step=0.001), Checkbox(value=False, description='Custom parameters'))), HTML(value='<h3>add tags:</h3><p>The parameters that are not customized will be drawn randomly in the space of the possible values or will take the next available index (for Inputs and Outputs).</p>'), HBox(children=(Checkbox(value=True, description=' ', layout=Layout(height='40px', width='15%')), HTML(value='<p><b>Species</b></p>', description=' ', layout=Layout(height='40px', width='15%')))), HBox(children=(Checkbox(value=True, description=' ', layout=Layout(height='40px', width='15%')), HTML(value='<p><b>Degradable</b></p>', description=' ', layout=Layout(height='40px', width='15%')), BoundedFloatText(value=0.5, description='rate', disabled=True, layout=Layout(height='40px', width='20%')), Checkbox(value=False, description='custom parameters'))), HBox(children=(Checkbox(value=True, description=' ', layout=Layout(height='40px', width='15%')), HTML(value='<p><b>TF</b></p>', description=' ', layout=Layout(height='40px', width='15%')), Dropdown(index=1, options={'repressor by default': 0, 'activator by default': 1}, value=1))), HBox(children=(Checkbox(value=False, description=' ', layout=Layout(height='40px', width='15%')), HTML(value='<p><b>Kinase</b></p>', description=' ', layout=Layout(height='40px', width='15%')))), HBox(children=(Checkbox(value=False, description=' ', layout=Layout(height='40px', width='15%')), HTML(value='<p><b>Phosphatase</b></p>', description=' ', layout=Layout(height='40px', width='15%')))), HBox(children=(Checkbox(value=False, description=' ', layout=Layout(height='40px', width='15%')), HTML(value='<p><b>Output</b></p>', description=' ', layout=Layout(height='40px', width='15%')), BoundedIntText(value=0, description='index', disabled=True, layout=Layout(height='40px', width='20%')), Checkbox(value=False, description='custom parameters', disabled=True))), HBox(children=(Checkbox(value=False, description=' ', disabled=True, layout=Layout(height='40px', width='15%')), HTML(value='<p><b>Input</b></p>', description=' ', layout=Layout(height='40px', width='15%')), BoundedIntText(value=0, description='index', disabled=True, layout=Layout(height='40px', width='20%')), Checkbox(value=False, description='custom parameters', disabled=True))), HBox(children=(Checkbox(value=False, description=' ', layout=Layout(height='40px', width='15%')), HTML(value='<p><b>Complexable</b></p>', description=' ', layout=Layout(height='40px', width='15%')))), HBox(children=(Checkbox(value=False, description=' ', layout=Layout(height='40px', width='15%')), HTML(value='<p><b>Complex</b></p>', description=' ', layout=Layout(height='40px', width='15%')))), HBox(children=(Checkbox(value=False, description=' ', layout=Layout(height='40px', width='15%')), HTML(value='<p><b>Phosphorylable</b></p>', description=' ', layout=Layout(height='40px', width='15%')))), HBox(children=(Checkbox(value=False, description=' ', layout=Layout(height='40px', width='15%')), HTML(value='<p><b>Diffusible</b></p>', description=' ', layout=Layout(height='40px', width='15%')), BoundedFloatText(value=0.0, description='rate', disabled=True, layout=Layout(height='40px', width='20%')), Checkbox(value=False, description='custom parameters', disabled=True))), HBox(children=(Button(button_style='info', description='Add', style=ButtonStyle()), HTML(value=''))))),), _titles={'0': 'Add Species'})"
      ]
     },
     "metadata": {},
     "output_type": "display_data"
    }
   ],
   "source": [
    "bb = init_network_widget()\n",
    "bb.get_widget()"
   ]
  },
  {
   "cell_type": "code",
   "execution_count": null,
   "metadata": {},
   "outputs": [],
   "source": []
  }
 ],
 "metadata": {
  "hide_code_all_hidden": false,
  "kernelspec": {
   "display_name": "Python 3",
   "language": "python",
   "name": "python3"
  },
  "language_info": {
   "codemirror_mode": {
    "name": "ipython",
    "version": 3
   },
   "file_extension": ".py",
   "mimetype": "text/x-python",
   "name": "python",
   "nbconvert_exporter": "python",
   "pygments_lexer": "ipython3",
   "version": "3.6.4"
  }
 },
 "nbformat": 4,
 "nbformat_minor": 2
}
