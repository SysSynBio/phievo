{
 "cells": [
  {
   "cell_type": "markdown",
   "metadata": {},
   "source": [
    "# Analyse Network #\n",
    "\n",
    "This is a template notebook to read, study, modify and save a given network, usually the results of an evolutionnary simulation.\n",
    "\n",
    "These networks may be manually retrieved manually from a simulation by looking into the folder __my_simulation/Seed#n/Bests_#gen.net__. Where __#n__ is the seed number and __#gen__ the generation of the network. It is a better practice to save networks with a __.net__ extension.\n",
    "\n",
    "To run the integrator on a network, you have to define a model, this is done by giving the path of the model at the beginning of the __Definition and proxy__ cell.\n",
    "\n",
    "Please `Kernel>Restart & Run All` for every new project to make sure you start with a clean notebook."
   ]
  },
  {
   "cell_type": "markdown",
   "metadata": {},
   "source": [
    "## Import required libraries ##"
   ]
  },
  {
   "cell_type": "code",
   "execution_count": null,
   "metadata": {},
   "outputs": [],
   "source": [
    "%matplotlib notebook\n",
    "import matplotlib.pyplot as plt\n",
    "import numpy as np\n",
    "from  ipywidgets import widgets \n",
    "from ipywidgets import interact, interactive, fixed\n",
    "from IPython.display import display,HTML,clear_output\n",
    "import os\n",
    "HTML('''<script>code_show=true;function code_toggle() {if (code_show){$('div.input').hide();} else {$('div.input').show();} code_show = !code_show} $( document ).ready(code_toggle);</script><form action=\"javascript:code_toggle()\"><input type=\"submit\" value=\"Click here to toggle on/off the raw code.\"></form>''')\n",
    "import phievo.AnalysisTools as AT\n",
    "from  phievo.AnalysisTools.Notebook import Notebook\n",
    "\n",
    "notebook = Notebook()"
   ]
  },
  {
   "cell_type": "markdown",
   "metadata": {},
   "source": [
    "## Definition and proxy for usefull functions ##"
   ]
  },
  {
   "cell_type": "code",
   "execution_count": null,
   "metadata": {},
   "outputs": [],
   "source": [
    "MODEL = \"adaptation\"\n",
    "sim = AT.Simulation(MODEL)\n",
    "\n",
    "read_network = AT.main_functions.read_network\n",
    "\n",
    "def write_network(net,filename): net.store_to_pickle(filename)\n",
    "\n",
    "def draw(net,label=False): net.draw(edgeLegend=label)\n",
    "\n",
    "def fitness(net,trial): return sim.run_dynamics(net,trial,erase_buffer=False,return_treatment_fitness=True)\n",
    "\n",
    "def gene_knock_out(net,label): net.delete_clean(label,target='species')\n",
    "    \n",
    "def remove_interaction(net,label): net.delete_clean(label,target='interaction')"
   ]
  },
  {
   "cell_type": "markdown",
   "metadata": {},
   "source": [
    "## Analyse ##"
   ]
  },
  {
   "cell_type": "code",
   "execution_count": null,
   "metadata": {},
   "outputs": [],
   "source": [
    "net = read_network(\"test.pkl\")"
   ]
  },
  {
   "cell_type": "code",
   "execution_count": null,
   "metadata": {},
   "outputs": [],
   "source": [
    "draw(net)"
   ]
  },
  {
   "cell_type": "code",
   "execution_count": null,
   "metadata": {},
   "outputs": [],
   "source": [
    "gene_knock_out(net,1)"
   ]
  },
  {
   "cell_type": "code",
   "execution_count": null,
   "metadata": {},
   "outputs": [],
   "source": [
    "draw(net)"
   ]
  },
  {
   "cell_type": "code",
   "execution_count": null,
   "metadata": {},
   "outputs": [],
   "source": []
  }
 ],
 "metadata": {
  "kernelspec": {
   "display_name": "Python 3",
   "language": "python",
   "name": "python3"
  },
  "language_info": {
   "codemirror_mode": {
    "name": "ipython",
    "version": 3
   },
   "file_extension": ".py",
   "mimetype": "text/x-python",
   "name": "python",
   "nbconvert_exporter": "python",
   "pygments_lexer": "ipython3",
   "version": "3.6.4"
  }
 },
 "nbformat": 4,
 "nbformat_minor": 2
}
